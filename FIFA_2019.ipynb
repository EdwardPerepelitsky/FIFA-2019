{
 "cells": [
  {
   "cell_type": "code",
   "execution_count": null,
   "metadata": {},
   "outputs": [],
   "source": [
    "# In this notebook, we will use stats of soccer players on the 2019 FIFA roster to predict their value and wage."
   ]
  },
  {
   "cell_type": "code",
   "execution_count": null,
   "metadata": {},
   "outputs": [],
   "source": [
    "# Load data from csv file."
   ]
  },
  {
   "cell_type": "code",
   "execution_count": 1,
   "metadata": {},
   "outputs": [
    {
     "name": "stdout",
     "output_type": "stream",
     "text": [
      "+---+------+-----------------+---+--------------------+-----------+--------------------+-------+---------+-------------------+--------------------+-------+-----+-------+--------------+------------------------+---------+-----------+--------------+----------+---------+--------+-------------+------------+-----------+--------------------+------+------+----+----+----+----+----+----+----+----+----+----+----+----+----+----+----+----+----+----+----+----+----+----+----+----+----+----+--------+---------+---------------+------------+-------+---------+-----+----------+-----------+-----------+------------+-----------+-------+---------+-------+---------+-------+-------+--------+---------+----------+-------------+-----------+------+---------+---------+-------+--------------+-------------+--------+----------+---------+-------------+----------+--------------+\n",
      "|_c0|    ID|             Name|Age|               Photo|Nationality|                Flag|Overall|Potential|               Club|           Club Logo|  Value| Wage|Special|Preferred Foot|International Reputation|Weak Foot|Skill Moves|     Work Rate| Body Type|Real Face|Position|Jersey Number|      Joined|Loaned From|Contract Valid Until|Height|Weight|  LS|  ST|  RS|  LW|  LF|  CF|  RF|  RW| LAM| CAM| RAM|  LM| LCM|  CM| RCM|  RM| LWB| LDM| CDM| RDM| RWB|  LB| LCB|  CB| RCB|  RB|Crossing|Finishing|HeadingAccuracy|ShortPassing|Volleys|Dribbling|Curve|FKAccuracy|LongPassing|BallControl|Acceleration|SprintSpeed|Agility|Reactions|Balance|ShotPower|Jumping|Stamina|Strength|LongShots|Aggression|Interceptions|Positioning|Vision|Penalties|Composure|Marking|StandingTackle|SlidingTackle|GKDiving|GKHandling|GKKicking|GKPositioning|GKReflexes|Release Clause|\n",
      "+---+------+-----------------+---+--------------------+-----------+--------------------+-------+---------+-------------------+--------------------+-------+-----+-------+--------------+------------------------+---------+-----------+--------------+----------+---------+--------+-------------+------------+-----------+--------------------+------+------+----+----+----+----+----+----+----+----+----+----+----+----+----+----+----+----+----+----+----+----+----+----+----+----+----+----+--------+---------+---------------+------------+-------+---------+-----+----------+-----------+-----------+------------+-----------+-------+---------+-------+---------+-------+-------+--------+---------+----------+-------------+-----------+------+---------+---------+-------+--------------+-------------+--------+----------+---------+-------------+----------+--------------+\n",
      "|  0|158023|         L. Messi| 31|https://cdn.sofif...|  Argentina|https://cdn.sofif...|     94|       94|       FC Barcelona|https://cdn.sofif...|€110.5M|€565K|   2202|          Left|                       5|        4|          4|Medium/ Medium|     Messi|      Yes|      RF|           10| Jul 1, 2004|       null|                2021|   5'7|159lbs|88+2|88+2|88+2|92+2|93+2|93+2|93+2|92+2|93+2|93+2|93+2|91+2|84+2|84+2|84+2|91+2|64+2|61+2|61+2|61+2|64+2|59+2|47+2|47+2|47+2|59+2|      84|       95|             70|          90|     86|       97|   93|        94|         87|         96|          91|         86|     91|       95|     95|       85|     68|     72|      59|       94|        48|           22|         94|    94|       75|       96|     33|            28|           26|       6|        11|       15|           14|         8|       €226.5M|\n",
      "|  1| 20801|Cristiano Ronaldo| 33|https://cdn.sofif...|   Portugal|https://cdn.sofif...|     94|       94|           Juventus|https://cdn.sofif...|   €77M|€405K|   2228|         Right|                       5|        4|          5|     High/ Low|C. Ronaldo|      Yes|      ST|            7|Jul 10, 2018|       null|                2022|   6'2|183lbs|91+3|91+3|91+3|89+3|90+3|90+3|90+3|89+3|88+3|88+3|88+3|88+3|81+3|81+3|81+3|88+3|65+3|61+3|61+3|61+3|65+3|61+3|53+3|53+3|53+3|61+3|      84|       94|             89|          81|     87|       88|   81|        76|         77|         94|          89|         91|     87|       96|     70|       95|     95|     88|      79|       93|        63|           29|         95|    82|       85|       95|     28|            31|           23|       7|        11|       15|           14|        11|       €127.1M|\n",
      "|  2|190871|        Neymar Jr| 26|https://cdn.sofif...|     Brazil|https://cdn.sofif...|     92|       93|Paris Saint-Germain|https://cdn.sofif...|€118.5M|€290K|   2143|         Right|                       5|        5|          5|  High/ Medium|    Neymar|      Yes|      LW|           10| Aug 3, 2017|       null|                2022|   5'9|150lbs|84+3|84+3|84+3|89+3|89+3|89+3|89+3|89+3|89+3|89+3|89+3|88+3|81+3|81+3|81+3|88+3|65+3|60+3|60+3|60+3|65+3|60+3|47+3|47+3|47+3|60+3|      79|       87|             62|          84|     84|       96|   88|        87|         78|         95|          94|         90|     96|       94|     84|       80|     61|     81|      49|       82|        56|           36|         89|    87|       81|       94|     27|            24|           33|       9|         9|       15|           15|        11|       €228.1M|\n",
      "|  3|193080|           De Gea| 27|https://cdn.sofif...|      Spain|https://cdn.sofif...|     91|       93|  Manchester United|https://cdn.sofif...|   €72M|€260K|   1471|         Right|                       4|        3|          1|Medium/ Medium|      Lean|      Yes|      GK|            1| Jul 1, 2011|       null|                2020|   6'4|168lbs|null|null|null|null|null|null|null|null|null|null|null|null|null|null|null|null|null|null|null|null|null|null|null|null|null|null|      17|       13|             21|          50|     13|       18|   21|        19|         51|         42|          57|         58|     60|       90|     43|       31|     67|     43|      64|       12|        38|           30|         12|    68|       40|       68|     15|            21|           13|      90|        85|       87|           88|        94|       €138.6M|\n",
      "|  4|192985|     K. De Bruyne| 27|https://cdn.sofif...|    Belgium|https://cdn.sofif...|     91|       92|    Manchester City|https://cdn.sofif...|  €102M|€355K|   2281|         Right|                       4|        5|          4|    High/ High|    Normal|      Yes|     RCM|            7|Aug 30, 2015|       null|                2023|  5'11|154lbs|82+3|82+3|82+3|87+3|87+3|87+3|87+3|87+3|88+3|88+3|88+3|88+3|87+3|87+3|87+3|88+3|77+3|77+3|77+3|77+3|77+3|73+3|66+3|66+3|66+3|73+3|      93|       82|             55|          92|     82|       86|   85|        83|         91|         91|          78|         76|     79|       91|     77|       91|     63|     90|      75|       91|        76|           61|         87|    94|       79|       88|     68|            58|           51|      15|        13|        5|           10|        13|       €196.4M|\n",
      "|  5|183277|        E. Hazard| 27|https://cdn.sofif...|    Belgium|https://cdn.sofif...|     91|       91|            Chelsea|https://cdn.sofif...|   €93M|€340K|   2142|         Right|                       4|        4|          4|  High/ Medium|    Normal|      Yes|      LF|           10| Jul 1, 2012|       null|                2020|   5'8|163lbs|83+3|83+3|83+3|89+3|88+3|88+3|88+3|89+3|89+3|89+3|89+3|89+3|82+3|82+3|82+3|89+3|66+3|63+3|63+3|63+3|66+3|60+3|49+3|49+3|49+3|60+3|      81|       84|             61|          89|     80|       95|   83|        79|         83|         94|          94|         88|     95|       90|     94|       82|     56|     83|      66|       80|        54|           41|         87|    89|       86|       91|     34|            27|           22|      11|        12|        6|            8|         8|       €172.1M|\n",
      "|  6|177003|        L. Modrić| 32|https://cdn.sofif...|    Croatia|https://cdn.sofif...|     91|       91|        Real Madrid|https://cdn.sofif...|   €67M|€420K|   2280|         Right|                       4|        4|          4|    High/ High|      Lean|      Yes|     RCM|           10| Aug 1, 2012|       null|                2020|   5'8|146lbs|77+3|77+3|77+3|85+3|84+3|84+3|84+3|85+3|87+3|87+3|87+3|86+3|88+3|88+3|88+3|86+3|82+3|81+3|81+3|81+3|82+3|79+3|71+3|71+3|71+3|79+3|      86|       72|             55|          93|     76|       90|   85|        78|         88|         93|          80|         72|     93|       90|     94|       79|     68|     89|      58|       82|        62|           83|         79|    92|       82|       84|     60|            76|           73|      13|         9|        7|           14|         9|       €137.4M|\n",
      "|  7|176580|        L. Suárez| 31|https://cdn.sofif...|    Uruguay|https://cdn.sofif...|     91|       91|       FC Barcelona|https://cdn.sofif...|   €80M|€455K|   2346|         Right|                       5|        4|          3|  High/ Medium|    Normal|      Yes|      RS|            9|Jul 11, 2014|       null|                2021|   6'0|190lbs|87+5|87+5|87+5|86+5|87+5|87+5|87+5|86+5|85+5|85+5|85+5|84+5|79+5|79+5|79+5|84+5|69+5|68+5|68+5|68+5|69+5|66+5|63+5|63+5|63+5|66+5|      77|       93|             77|          82|     88|       87|   86|        84|         64|         90|          86|         75|     82|       92|     83|       86|     69|     90|      83|       85|        87|           41|         92|    84|       85|       85|     62|            45|           38|      27|        25|       31|           33|        37|         €164M|\n",
      "|  8|155862|     Sergio Ramos| 32|https://cdn.sofif...|      Spain|https://cdn.sofif...|     91|       91|        Real Madrid|https://cdn.sofif...|   €51M|€380K|   2201|         Right|                       4|        3|          3|  High/ Medium|    Normal|      Yes|     RCB|           15| Aug 1, 2005|       null|                2020|   6'0|181lbs|73+3|73+3|73+3|70+3|71+3|71+3|71+3|70+3|71+3|71+3|71+3|72+3|75+3|75+3|75+3|72+3|81+3|84+3|84+3|84+3|81+3|84+3|87+3|87+3|87+3|84+3|      66|       60|             91|          78|     66|       63|   74|        72|         77|         84|          76|         75|     78|       85|     66|       79|     93|     84|      83|       59|        88|           90|         60|    63|       75|       82|     87|            92|           91|      11|         8|        9|            7|        11|       €104.6M|\n",
      "|  9|200389|         J. Oblak| 25|https://cdn.sofif...|   Slovenia|https://cdn.sofif...|     90|       93|    Atlético Madrid|https://cdn.sofif...|   €68M| €94K|   1331|         Right|                       3|        3|          1|Medium/ Medium|    Normal|      Yes|      GK|            1|Jul 16, 2014|       null|                2021|   6'2|192lbs|null|null|null|null|null|null|null|null|null|null|null|null|null|null|null|null|null|null|null|null|null|null|null|null|null|null|      13|       11|             15|          29|     13|       12|   13|        14|         26|         16|          43|         60|     67|       86|     49|       22|     76|     41|      78|       12|        34|           19|         11|    70|       11|       70|     27|            12|           18|      86|        92|       78|           88|        89|       €144.5M|\n",
      "| 10|188545|   R. Lewandowski| 29|https://cdn.sofif...|     Poland|https://cdn.sofif...|     90|       90|  FC Bayern München|https://cdn.sofif...|   €77M|€205K|   2152|         Right|                       4|        4|          4|  High/ Medium|    Normal|      Yes|      ST|            9| Jul 1, 2014|       null|                2021|   6'0|176lbs|87+3|87+3|87+3|83+3|86+3|86+3|86+3|83+3|83+3|83+3|83+3|81+3|77+3|77+3|77+3|81+3|61+3|62+3|62+3|62+3|61+3|58+3|57+3|57+3|57+3|58+3|      62|       91|             85|          83|     89|       85|   77|        86|         65|         89|          77|         78|     78|       90|     78|       88|     84|     78|      84|       84|        80|           39|         91|    77|       88|       86|     34|            42|           19|      15|         6|       12|            8|        10|       €127.1M|\n",
      "| 11|182521|         T. Kroos| 28|https://cdn.sofif...|    Germany|https://cdn.sofif...|     90|       90|        Real Madrid|https://cdn.sofif...| €76.5M|€355K|   2190|         Right|                       4|        5|          3|Medium/ Medium|    Normal|      Yes|     LCM|            8|Jul 17, 2014|       null|                2022|   6'0|168lbs|78+3|78+3|78+3|81+3|82+3|82+3|82+3|81+3|84+3|84+3|84+3|82+3|86+3|86+3|86+3|82+3|79+3|82+3|82+3|82+3|79+3|77+3|72+3|72+3|72+3|77+3|      88|       76|             54|          92|     82|       81|   86|        84|         93|         90|          64|         62|     70|       89|     71|       87|     30|     75|      73|       92|        60|           82|         79|    86|       73|       85|     72|            79|           69|      10|        11|       13|            7|        10|       €156.8M|\n",
      "| 12|182493|         D. Godín| 32|https://cdn.sofif...|    Uruguay|https://cdn.sofif...|     90|       90|    Atlético Madrid|https://cdn.sofif...|   €44M|€125K|   1946|         Right|                       3|        3|          2|  Medium/ High|      Lean|      Yes|      CB|           10| Aug 4, 2010|       null|                2019|   6'2|172lbs|64+3|64+3|64+3|61+3|62+3|62+3|62+3|61+3|62+3|62+3|62+3|63+3|68+3|68+3|68+3|63+3|76+3|81+3|81+3|81+3|76+3|79+3|87+3|87+3|87+3|79+3|      55|       42|             92|          79|     47|       53|   49|        51|         70|         76|          68|         68|     58|       85|     54|       67|     91|     66|      88|       43|        89|           88|         48|    52|       50|       82|     90|            89|           89|       6|         8|       15|            5|        15|        €90.2M|\n",
      "| 13|168542|      David Silva| 32|https://cdn.sofif...|      Spain|https://cdn.sofif...|     90|       90|    Manchester City|https://cdn.sofif...|   €60M|€285K|   2115|          Left|                       4|        2|          4|  High/ Medium|    Normal|      Yes|     LCM|           21|Jul 14, 2010|       null|                2020|   5'8|148lbs|77+3|77+3|77+3|85+3|84+3|84+3|84+3|85+3|87+3|87+3|87+3|85+3|85+3|85+3|85+3|85+3|69+3|70+3|70+3|70+3|69+3|64+3|57+3|57+3|57+3|64+3|      84|       76|             54|          93|     82|       89|   82|        77|         87|         94|          70|         64|     92|       90|     90|       72|     64|     78|      52|       75|        57|           50|         89|    92|       75|       93|     59|            53|           29|       6|        15|        7|            6|        12|         €111M|\n",
      "| 14|215914|         N. Kanté| 27|https://cdn.sofif...|     France|https://cdn.sofif...|     89|       90|            Chelsea|https://cdn.sofif...|   €63M|€225K|   2189|         Right|                       3|        3|          2|  Medium/ High|      Lean|      Yes|     LDM|           13|Jul 16, 2016|       null|                2023|   5'6|159lbs|72+3|72+3|72+3|77+3|77+3|77+3|77+3|77+3|79+3|79+3|79+3|79+3|82+3|82+3|82+3|79+3|85+3|87+3|87+3|87+3|85+3|84+3|83+3|83+3|83+3|84+3|      68|       65|             54|          86|     56|       79|   49|        49|         81|         80|          82|         78|     82|       93|     92|       71|     77|     96|      76|       69|        90|           92|         71|    79|       54|       85|     90|            91|           85|      15|        12|       10|            7|        10|       €121.3M|\n",
      "| 15|211110|        P. Dybala| 24|https://cdn.sofif...|  Argentina|https://cdn.sofif...|     89|       94|           Juventus|https://cdn.sofif...|   €89M|€205K|   2092|          Left|                       3|        3|          4|  High/ Medium|    Normal|      Yes|      LF|           21| Jul 1, 2015|       null|                2022|  5'10|165lbs|83+3|83+3|83+3|87+3|86+3|86+3|86+3|87+3|87+3|87+3|87+3|86+3|79+3|79+3|79+3|86+3|62+3|58+3|58+3|58+3|62+3|56+3|45+3|45+3|45+3|56+3|      82|       84|             68|          87|     88|       92|   88|        88|         75|         92|          87|         83|     91|       86|     85|       82|     75|     80|      65|       88|        48|           32|         84|    87|       86|       84|     23|            20|           20|       5|         4|        4|            5|         8|       €153.5M|\n",
      "| 16|202126|          H. Kane| 24|https://cdn.sofif...|    England|https://cdn.sofif...|     89|       91|  Tottenham Hotspur|https://cdn.sofif...| €83.5M|€205K|   2165|         Right|                       3|        4|          3|    High/ High|    Normal|      Yes|      ST|            9| Jul 1, 2010|       null|                2024|   6'2|196lbs|86+3|86+3|86+3|82+3|84+3|84+3|84+3|82+3|82+3|82+3|82+3|81+3|79+3|79+3|79+3|81+3|65+3|66+3|66+3|66+3|65+3|62+3|60+3|60+3|60+3|62+3|      75|       94|             85|          80|     84|       80|   78|        68|         82|         84|          68|         72|     71|       91|     71|       88|     78|     89|      84|       85|        76|           35|         93|    80|       90|       89|     56|            36|           38|       8|        10|       11|           14|        11|       €160.7M|\n",
      "| 17|194765|     A. Griezmann| 27|https://cdn.sofif...|     France|https://cdn.sofif...|     89|       90|    Atlético Madrid|https://cdn.sofif...|   €78M|€145K|   2246|          Left|                       4|        3|          4|    High/ High|      Lean|      Yes|     CAM|            7|Jul 28, 2014|       null|                2023|   5'9|161lbs|86+3|86+3|86+3|87+3|87+3|87+3|87+3|87+3|86+3|86+3|86+3|86+3|80+3|80+3|80+3|86+3|70+3|67+3|67+3|67+3|70+3|67+3|61+3|61+3|61+3|67+3|      82|       90|             84|          83|     87|       88|   84|        78|         76|         90|          88|         85|     90|       90|     80|       80|     90|     83|      62|       82|        69|           35|         91|    83|       79|       87|     59|            47|           48|      14|         8|       14|           13|        14|       €165.8M|\n",
      "| 18|192448|    M. ter Stegen| 26|https://cdn.sofif...|    Germany|https://cdn.sofif...|     89|       92|       FC Barcelona|https://cdn.sofif...|   €58M|€240K|   1328|         Right|                       3|        4|          1|Medium/ Medium|    Normal|      Yes|      GK|           22| Jul 1, 2014|       null|                2022|   6'2|187lbs|null|null|null|null|null|null|null|null|null|null|null|null|null|null|null|null|null|null|null|null|null|null|null|null|null|null|      15|       14|             11|          36|     14|       17|   18|        12|         42|         18|          38|         50|     37|       85|     43|       22|     79|     35|      79|       10|        43|           22|         11|    69|       25|       69|     25|            13|           10|      87|        85|       88|           85|        90|       €123.3M|\n",
      "| 19|192119|      T. Courtois| 26|https://cdn.sofif...|    Belgium|https://cdn.sofif...|     89|       90|        Real Madrid|https://cdn.sofif...| €53.5M|€240K|   1311|          Left|                       4|        2|          1|Medium/ Medium|  Courtois|      Yes|      GK|            1| Aug 9, 2018|       null|                2024|   6'6|212lbs|null|null|null|null|null|null|null|null|null|null|null|null|null|null|null|null|null|null|null|null|null|null|null|null|null|null|      14|       14|             13|          33|     12|       13|   19|        20|         35|         23|          46|         52|     61|       84|     45|       36|     68|     38|      70|       17|        23|           15|         13|    44|       27|       66|     20|            18|           16|      85|        91|       72|           86|        88|       €113.7M|\n",
      "+---+------+-----------------+---+--------------------+-----------+--------------------+-------+---------+-------------------+--------------------+-------+-----+-------+--------------+------------------------+---------+-----------+--------------+----------+---------+--------+-------------+------------+-----------+--------------------+------+------+----+----+----+----+----+----+----+----+----+----+----+----+----+----+----+----+----+----+----+----+----+----+----+----+----+----+--------+---------+---------------+------------+-------+---------+-----+----------+-----------+-----------+------------+-----------+-------+---------+-------+---------+-------+-------+--------+---------+----------+-------------+-----------+------+---------+---------+-------+--------------+-------------+--------+----------+---------+-------------+----------+--------------+\n",
      "only showing top 20 rows\n",
      "\n"
     ]
    }
   ],
   "source": [
    "\n",
    "import ibmos2spark\n",
    "\n",
    "# @hidden_cell\n",
    "credentials = {\n",
    "    'endpoint': 'https://s3-api.us-geo.objectstorage.service.networklayer.com',\n",
    "    'api_key': '3SRWJdZAZuTWsEkdcy-zVHrwCLnm4zfxZNtU1JfeoaBe',\n",
    "    'service_id': 'iam-ServiceId-a7d6e3b0-c39e-4bfa-b544-cd1ca735bd64',\n",
    "    'iam_service_endpoint': 'https://iam.bluemix.net/oidc/token'}\n",
    "\n",
    "configuration_name = 'os_cef4952e05d8448491fd616525870fe7_configs'\n",
    "cos = ibmos2spark.CloudObjectStorage(sc, credentials, configuration_name, 'bluemix_cos')\n",
    "\n",
    "from pyspark.sql import SparkSession\n",
    "spark = SparkSession.builder.getOrCreate()\n",
    "df_data_1 = spark.read\\\n",
    "  .format('org.apache.spark.sql.execution.datasources.csv.CSVFileFormat')\\\n",
    "  .option('header', 'true')\\\n",
    "  .load(cos.url('data.csv', 'default-donotdelete-pr-veoveo1lavfexy'))\n",
    "df_data_1.show()\n"
   ]
  },
  {
   "cell_type": "code",
   "execution_count": null,
   "metadata": {},
   "outputs": [],
   "source": [
    "# Get rid of spaces in column names."
   ]
  },
  {
   "cell_type": "code",
   "execution_count": 2,
   "metadata": {},
   "outputs": [],
   "source": [
    "def nospace(name):\n",
    "    name = name.split(\" \")\n",
    "    name = \"_\".join(name)\n",
    "    return name"
   ]
  },
  {
   "cell_type": "code",
   "execution_count": 3,
   "metadata": {},
   "outputs": [],
   "source": [
    "new_columns = list(map(nospace,df_data_1.columns))\n",
    "old_columns = df_data_1.columns\n",
    "replace_list = [\"`\" + old_c + \"`\" + \" AS \" + new_c for old_c, new_c in zip(old_columns,new_columns) ]\n",
    "replace_str = \", \".join(replace_list)\n",
    "replace_str = \"SELECT \" + replace_str + \" FROM data1\"\n",
    "df_data_1.createOrReplaceTempView('data1')\n",
    "df_data_1  = spark.sql(replace_str)"
   ]
  },
  {
   "cell_type": "code",
   "execution_count": null,
   "metadata": {},
   "outputs": [],
   "source": [
    "# Upload dataframe to .parquet file on cloud obect store."
   ]
  },
  {
   "cell_type": "code",
   "execution_count": 4,
   "metadata": {},
   "outputs": [],
   "source": [
    "df_data_1 = df_data_1.repartition(1)\n",
    "df_data_1.write.parquet(cos.url('FIFA.parquet', 'default-donotdelete-pr-veoveo1lavfexy'),mode = 'overwrite')\n"
   ]
  },
  {
   "cell_type": "code",
   "execution_count": null,
   "metadata": {},
   "outputs": [],
   "source": [
    "# Read data back into dataframe df"
   ]
  },
  {
   "cell_type": "code",
   "execution_count": 5,
   "metadata": {},
   "outputs": [],
   "source": [
    "df = spark.read.parquet(cos.url('FIFA.parquet', 'default-donotdelete-pr-veoveo1lavfexy'))"
   ]
  },
  {
   "cell_type": "code",
   "execution_count": null,
   "metadata": {},
   "outputs": [],
   "source": [
    "# FEATURE ENGINEERING:"
   ]
  },
  {
   "cell_type": "code",
   "execution_count": null,
   "metadata": {},
   "outputs": [],
   "source": [
    "#Remove unecessary features."
   ]
  },
  {
   "cell_type": "code",
   "execution_count": 6,
   "metadata": {},
   "outputs": [],
   "source": [
    "drop_list = ['Photo','Flag',\"Club_Logo\",\"Special\",\"Real_Face\",\"Loaned_From\",\"ID\",'LS','ST','RS','LW','LF','CF','RF','RW','LAM','CAM','RAM','LM','LCM','CM',\n",
    "             'RCM','RM','LWB','LDM','CDM','RDM','RWB','LB','LCB','CB','RCB','RB','Body_Type','Joined',\n",
    "            'Contract_Valid_Until','Club','Jersey_Number']\n",
    "for col in drop_list:\n",
    "    df = df.drop(col)\n",
    "df.createOrReplaceTempView('FIFA')"
   ]
  },
  {
   "cell_type": "code",
   "execution_count": null,
   "metadata": {},
   "outputs": [],
   "source": [
    "# Replace Nationality feature with Region."
   ]
  },
  {
   "cell_type": "code",
   "execution_count": 7,
   "metadata": {},
   "outputs": [],
   "source": [
    "\n",
    "df_countries = spark.read\\\n",
    "  .format('org.apache.spark.sql.execution.datasources.csv.CSVFileFormat')\\\n",
    "  .option('header', 'true')\\\n",
    "  .load(cos.url('countries of the world.csv', 'default-donotdelete-pr-veoveo1lavfexy'))\n",
    "scont = pyspark.sql.SQLContext(spark.sparkContext)\n",
    "\n",
    "def no_end_space(s):\n",
    "    while s[-1]== ' ':\n",
    "        s= s[:-1]\n",
    "    return s\n",
    "\n",
    "scont.registerFunction(\"no_end_space\",no_end_space)\n",
    "\n",
    "df_countries.createOrReplaceTempView('countries')\n",
    "df_countries = spark.sql(\"Select no_end_space(Country) AS Country, no_end_space(Region) AS Region FROM countries\")\n",
    "df_countries.createOrReplaceTempView('countries')\n",
    "df = spark.sql(\"select * FROM FIFA LEFT JOIN countries ON FIFA.Nationality = countries.Country\")\n",
    "df.createOrReplaceTempView('FIFA')\n",
    "df = df.drop('Nationality').drop('Country')\n",
    "df.createOrReplaceTempView('FIFA')"
   ]
  },
  {
   "cell_type": "code",
   "execution_count": null,
   "metadata": {},
   "outputs": [],
   "source": [
    "# Get rid of rows without a valid value for Value or Wage. These are the variables we will try to predict.\n",
    "# Set missing rows in Release_Clause column to zero."
   ]
  },
  {
   "cell_type": "code",
   "execution_count": 8,
   "metadata": {},
   "outputs": [],
   "source": [
    "def check_last(s):\n",
    "    if s[-1]=='M' or s[-1]=='K':\n",
    "        return True\n",
    "    else:\n",
    "        return False\n",
    "    \n",
    "def check_last_release(s):\n",
    "    if s==None:\n",
    "        return '0'\n",
    "    if s[-1]!='M' and s[-1]!='K':\n",
    "        return '0'\n",
    "    return s    \n",
    "\n",
    "scont.registerFunction(\"check_last\",check_last)\n",
    "scont.registerFunction(\"check_last_release\",check_last_release)\n",
    "\n",
    "df = spark.sql(\"select * FROM FIFA WHERE CAST(check_last(Value) as boolean) and CAST(check_last(Wage) as boolean)\")\n",
    "df.createOrReplaceTempView('FIFA')\n",
    "\n",
    "def get_value(s):\n",
    "    \n",
    "    if s== '0':\n",
    "        return s\n",
    "    last = s[-1]\n",
    "    s = s[1:-1]\n",
    "    if \".\" not in s:\n",
    "        if last == 'M':\n",
    "            s = s + '000000'\n",
    "        elif last == 'K':\n",
    "            s = s + '000'\n",
    "    else:\n",
    "        s_li = s.split(\".\")\n",
    "        ss = s_li[1]\n",
    "        if last == 'M':\n",
    "            mag = 6\n",
    "        elif last == 'K':\n",
    "            mag =3\n",
    "        if len(ss)<mag:\n",
    "            rem = mag - len(ss)\n",
    "            for j in range(rem):\n",
    "                ss = ss + '0'\n",
    "        elif len(ss)>mag:\n",
    "            ssf = ss[0:mag]\n",
    "            sss = ss[mag:]\n",
    "            ss = ssf + \".\" + sss\n",
    "        \n",
    "        s_li[1] = ss\n",
    "        s = \"\".join(s_li)\n",
    "    return s\n",
    "\n",
    "scont.registerFunction(\"get_value\",get_value)\n",
    "\n",
    "value_df = spark.sql('''\n",
    "select _c0 as _c0_c, CAST(get_value(Value) as double) as Value_float, \n",
    "CAST(get_value(Wage) as double) as Wage_float,\n",
    "CAST(get_value(check_last_release(Release_Clause)) as double) as Release_Clause_float from FIFA\n",
    "''')\n",
    "value_df.createOrReplaceTempView('values')\n",
    "df = spark.sql(\"select * FROM FIFA JOIN values on FIFA._c0 = values._c0_c\")\n",
    "df = df.drop('_c0_c').drop('Value').drop('Wage').drop('Release_Clause')\n",
    "df = df.withColumnRenamed('Value_float', 'Value')\n",
    "df = df.withColumnRenamed('Wage_float', 'Wage')\n",
    "df = df.withColumnRenamed('Release_Clause_float', 'Release_Clause')\n",
    "df.createOrReplaceTempView('FIFA')\n"
   ]
  },
  {
   "cell_type": "code",
   "execution_count": null,
   "metadata": {},
   "outputs": [],
   "source": [
    "# Split work_rate column into two columns. Encode both work_rates as an integer."
   ]
  },
  {
   "cell_type": "code",
   "execution_count": 9,
   "metadata": {},
   "outputs": [],
   "source": [
    "def wrate(s,pos):\n",
    "    if s is None:\n",
    "        return None\n",
    "    s_li = s.split(\"/\")\n",
    "    if pos == 'f':\n",
    "        el = s_li[0]\n",
    "    else:\n",
    "        el = s_li[1][1:]\n",
    "    if el == 'Low':\n",
    "        return '1'\n",
    "    if el == 'Medium':\n",
    "        return '2'\n",
    "    if el == 'High':\n",
    "        return '3'\n",
    "    \n",
    "scont.registerFunction(\"wrate\",wrate)\n",
    "\n",
    "wrate_df = spark.sql('''\n",
    "select _c0 as _c0_c, CAST(wrate(Work_Rate,'f') as double) as Work_Rate_1, \n",
    "CAST(wrate(Work_Rate,'s') as double) as Work_Rate_2 from FIFA\n",
    "''')\n",
    "\n",
    "wrate_df.createOrReplaceTempView('wrate')\n",
    "df = spark.sql(\"select * FROM FIFA JOIN wrate on FIFA._c0 = wrate._c0_c\")\n",
    "df = df.drop('_c0_c').drop('Work_Rate')\n",
    "df.createOrReplaceTempView('FIFA')"
   ]
  },
  {
   "cell_type": "code",
   "execution_count": null,
   "metadata": {},
   "outputs": [],
   "source": [
    "# Encode the height as a double."
   ]
  },
  {
   "cell_type": "code",
   "execution_count": 10,
   "metadata": {},
   "outputs": [],
   "source": [
    "def Height_func(s):\n",
    "    if s is None:\n",
    "        return None\n",
    "    s_li = s.split(\"'\")\n",
    "    feet = float(s_li[0])\n",
    "    inch = float(s_li[1])\n",
    "    height = feet + inch/12\n",
    "    return str(height)\n",
    "\n",
    "scont.registerFunction(\"Height_func\",Height_func)\n",
    "\n",
    "Height_df = spark.sql(\"select _c0 as _c0_c, CAST(Height_func(Height) as double) as Height_float from FIFA\")\n",
    "Height_df.createOrReplaceTempView('Height')\n",
    "df = spark.sql(\"select * FROM FIFA JOIN Height on FIFA._c0 = Height._c0_c\")\n",
    "df = df.drop('_c0_c').drop('Height')\n",
    "df = df.withColumnRenamed('Height_float', 'Height')\n",
    "df.createOrReplaceTempView('FIFA')"
   ]
  },
  {
   "cell_type": "code",
   "execution_count": null,
   "metadata": {},
   "outputs": [],
   "source": [
    "# Encode the weight as a double."
   ]
  },
  {
   "cell_type": "code",
   "execution_count": 11,
   "metadata": {},
   "outputs": [],
   "source": [
    "def Weight_func(s):\n",
    "    if s is None:\n",
    "        return None\n",
    "    return s[:-3]\n",
    "\n",
    "scont.registerFunction(\"Weight_func\",Weight_func)\n",
    "Weight_df = spark.sql(\"select _c0 as _c0_c, CAST(Weight_func(Weight) as double) as Weight_float from FIFA\")\n",
    "Weight_df.createOrReplaceTempView('Weight')\n",
    "df = spark.sql(\"select * FROM FIFA JOIN Weight on FIFA._c0 = Weight._c0_c\")\n",
    "df = df.drop('_c0_c').drop('Weight')\n",
    "df = df.withColumnRenamed('Weight_float', 'Weight')\n",
    "df.createOrReplaceTempView('FIFA')"
   ]
  },
  {
   "cell_type": "code",
   "execution_count": null,
   "metadata": {},
   "outputs": [],
   "source": [
    "# Reduce the number of positions to either Goalie, Back, Midfielder, Winger, or Striker."
   ]
  },
  {
   "cell_type": "code",
   "execution_count": 12,
   "metadata": {},
   "outputs": [],
   "source": [
    "def Pos_func(s):\n",
    "    if s is None:\n",
    "        return None\n",
    "    if 'G' in s:\n",
    "        return 'G'\n",
    "    if 'B' in s:\n",
    "        return 'B'\n",
    "    if 'M' in s:\n",
    "        return 'M'\n",
    "    if 'W' in s:\n",
    "        return 'W'\n",
    "    if 'S' in s or 'F' in s:\n",
    "        return 'S'\n",
    "    \n",
    "scont.registerFunction(\"Pos_func\",Pos_func)\n",
    "Pos_df = spark.sql(\"select _c0 as _c0_c, Pos_func(Position) as Posit from FIFA\")\n",
    "Pos_df.createOrReplaceTempView('Pos')\n",
    "df = spark.sql(\"select * FROM FIFA JOIN Pos on FIFA._c0 = Pos._c0_c\")\n",
    "df = df.drop('_c0_c').drop('Position')\n",
    "df = df.withColumnRenamed('Posit', 'Position')\n",
    "df.createOrReplaceTempView('FIFA')"
   ]
  },
  {
   "cell_type": "code",
   "execution_count": null,
   "metadata": {},
   "outputs": [],
   "source": [
    "# Transform all numerical columns from strings to doubles."
   ]
  },
  {
   "cell_type": "code",
   "execution_count": 13,
   "metadata": {},
   "outputs": [],
   "source": [
    "cols_cast = df.columns\n",
    "cols_non_num = ['Name','Preferred_Foot','Position','Region']\n",
    "for col in cols_non_num:\n",
    "    cols_cast.remove(col)\n",
    "    \n",
    "sel_str  = \"select \"\n",
    "for col in cols_non_num:\n",
    "    sel_str = sel_str + col + \", \"\n",
    "for col in cols_cast:\n",
    "    sel_str = sel_str + \"CAST(\" + col +  \" as double) as \" + col + \", \"\n",
    "sel_str = sel_str[:-2]\n",
    "sel_str = sel_str + \" from FIFA\"\n",
    "\n",
    "df = spark.sql(sel_str)\n",
    "df.createOrReplaceTempView('FIFA')"
   ]
  },
  {
   "cell_type": "code",
   "execution_count": null,
   "metadata": {},
   "outputs": [],
   "source": [
    "# Average the best num_skills skills for each player."
   ]
  },
  {
   "cell_type": "code",
   "execution_count": 14,
   "metadata": {},
   "outputs": [],
   "source": [
    "cols = df.columns\n",
    "skills = cols[11:45]\n",
    "other_cols = cols[:11]\n",
    "other_cols.extend(cols[45:])\n",
    "\n",
    "num_skills=5\n",
    "def avg_best(*scores):\n",
    "    scores = list(scores)\n",
    "    while None in scores:\n",
    "        scores.remove(None)\n",
    "    scores.sort()\n",
    "    scores.reverse()\n",
    "    scores = scores[0:num_skills]\n",
    "    return sum(scores)/num_skills\n",
    "\n",
    "scont.registerFunction(\"avg_best\",avg_best)\n",
    "\n",
    "sel_str = \"select \"\n",
    "for col in other_cols:\n",
    "    sel_str = sel_str + col + \", \"\n",
    "sel_str = sel_str + \"CAST(avg_best(\"\n",
    "for col in skills:\n",
    "    sel_str = sel_str + col +\", \"\n",
    "sel_str = sel_str[:-2]\n",
    "sel_str = sel_str  + \") as double) as avg_best_skills from FIFA\"\n",
    "sel_str\n",
    "\n",
    "df = spark.sql(sel_str)\n",
    "\n",
    "df.createOrReplaceTempView('FIFA')"
   ]
  },
  {
   "cell_type": "code",
   "execution_count": null,
   "metadata": {},
   "outputs": [],
   "source": [
    "# Get rid of rows where we don't know the player's position or what region they are from."
   ]
  },
  {
   "cell_type": "code",
   "execution_count": 15,
   "metadata": {},
   "outputs": [],
   "source": [
    "df = spark.sql(\"select * from FIFA where Position is not NULL  AND Region is not NULL\")\n",
    "df.createOrReplaceTempView('FIFA')"
   ]
  },
  {
   "cell_type": "code",
   "execution_count": null,
   "metadata": {},
   "outputs": [],
   "source": [
    "# Replace all missing values in numerical columns with their average accross the dataset."
   ]
  },
  {
   "cell_type": "code",
   "execution_count": 16,
   "metadata": {},
   "outputs": [],
   "source": [
    "cols = df.columns\n",
    "flt_cols = cols[5:]\n",
    "\n",
    "sel_str = \"select \"\n",
    "for col in flt_cols:\n",
    "    sel_str = sel_str + 'ROUND(AVG(' + col + ')) as ' + col + ', '\n",
    "sel_str = sel_str[: -2]\n",
    "sel_str = sel_str + ' from FIFA'\n",
    "aves =spark.sql(sel_str).collect()\n",
    "\n",
    "aves_dict = {}\n",
    "for col in flt_cols:\n",
    "    aves_dict[col] = aves[0].asDict()[col]\n",
    "    \n",
    "df = df.fillna(aves_dict)\n",
    "df.createOrReplaceTempView('FIFA')"
   ]
  },
  {
   "cell_type": "code",
   "execution_count": null,
   "metadata": {},
   "outputs": [],
   "source": [
    "# Check to make sure that columns have no missing values."
   ]
  },
  {
   "cell_type": "code",
   "execution_count": 17,
   "metadata": {},
   "outputs": [
    {
     "data": {
      "text/plain": [
       "[Row(Name=17905, Preferred_Foot=17905, Position=17905, Region=17905, _c0=17905, Age=17905, Overall=17905, Potential=17905, International_Reputation=17905, Weak_Foot=17905, Skill_Moves=17905, Value=17905, Wage=17905, Release_Clause=17905, Work_Rate_1=17905, Work_Rate_2=17905, Height=17905, Weight=17905, avg_best_skills=17905)]"
      ]
     },
     "execution_count": 17,
     "metadata": {},
     "output_type": "execute_result"
    }
   ],
   "source": [
    "sel_str = \"select \"\n",
    "for col in df.columns:\n",
    "    sel_str = sel_str + 'Count(' + col + ') as ' + col + ', '\n",
    "sel_str = sel_str[: -2]\n",
    "sel_str = sel_str + ' from FIFA'\n",
    "spark.sql(sel_str).collect()"
   ]
  },
  {
   "cell_type": "code",
   "execution_count": null,
   "metadata": {},
   "outputs": [],
   "source": [
    "# Convert all categorical columns with strings to integers indexing the different categories."
   ]
  },
  {
   "cell_type": "code",
   "execution_count": 19,
   "metadata": {},
   "outputs": [],
   "source": [
    "from pyspark.ml.feature import StringIndexer\n",
    "\n",
    "ind_columns = ['Preferred_Foot','Position','Region']\n",
    "\n",
    "for col in ind_columns:\n",
    "    indexer = StringIndexer(inputCol = col, outputCol = col + '_0')\n",
    "    df = indexer.fit(df).transform(df)\n",
    "\n",
    "for col in ind_columns:\n",
    "    df = df.drop(col)\n",
    "    df = df.withColumnRenamed(col + '_0', col)\n",
    "    \n",
    "df.createOrReplaceTempView('FIFA')"
   ]
  },
  {
   "cell_type": "code",
   "execution_count": null,
   "metadata": {},
   "outputs": [],
   "source": [
    "# Split numerical variables into bins to be used as categorical variables."
   ]
  },
  {
   "cell_type": "code",
   "execution_count": 20,
   "metadata": {},
   "outputs": [],
   "source": [
    "quantile_cols = ['Age','Overall','Potential','Height','Weight','avg_best_skills']\n",
    "other_cols = df.columns\n",
    "for col in quantile_cols:\n",
    "    other_cols.remove(col)\n",
    "    \n",
    "stat = pyspark.sql.DataFrameStatFunctions(df)\n",
    "quantile_dict = {}\n",
    "for indx,col in enumerate(quantile_cols):\n",
    "    quantile_dict[indx] = stat.approxQuantile(col,[0.1,0.2,0.3,0.4,0.5,0.6,0.7,0.8,0.9,.95,.99,.999],0)\n",
    "    \n",
    "def find_indx(value,indx):\n",
    "    quantiles = quantile_dict[indx]\n",
    "    if value >= quantiles[-1]:\n",
    "        return len(quantiles)\n",
    "    new_q = list(map(lambda x: x>=value,quantiles))\n",
    "    ind = new_q.index(True)\n",
    "    return ind\n",
    "\n",
    "scont.registerFunction(\"find_indx\",find_indx)\n",
    "\n",
    "sel_str = \"select \"\n",
    "for col in other_cols:\n",
    "    sel_str = sel_str + col + \", \"\n",
    "for indx,col in enumerate(quantile_cols):\n",
    "    sel_str = sel_str + \"CAST(find_indx(\" + col + \",\" + str(indx) + \") as double) as \" + col + \", \"\n",
    "sel_str = sel_str[:-2]\n",
    "sel_str = sel_str + ' from FIFA'\n",
    "\n",
    "df = spark.sql(sel_str)\n",
    "df.createOrReplaceTempView('FIFA')"
   ]
  },
  {
   "cell_type": "code",
   "execution_count": null,
   "metadata": {},
   "outputs": [],
   "source": [
    "# Create features column containing vector of features."
   ]
  },
  {
   "cell_type": "code",
   "execution_count": 21,
   "metadata": {},
   "outputs": [],
   "source": [
    "feature_cols = df.columns\n",
    "for col in ['Name','_c0','Value','Wage','Release_Clause']:\n",
    "    feature_cols.remove(col)\n",
    "    \n",
    "from pyspark.ml.linalg import Vectors\n",
    "from pyspark.ml.feature import VectorAssembler\n",
    "VA = VectorAssembler(inputCols = feature_cols, outputCol = 'features')\n",
    "df = VA.transform(df)\n",
    "\n",
    "df.createOrReplaceTempView('FIFA')"
   ]
  },
  {
   "cell_type": "code",
   "execution_count": null,
   "metadata": {},
   "outputs": [],
   "source": [
    "# Split the data into train_set, val_set, and test_test. Fit Random Forest regression algorithm to train data \n",
    "# to predict the value of each player."
   ]
  },
  {
   "cell_type": "code",
   "execution_count": 23,
   "metadata": {},
   "outputs": [],
   "source": [
    "from pyspark.ml.regression import RandomForestRegressor\n",
    "from pyspark.ml.evaluation import RegressionEvaluator\n",
    "(train_df,val_df, test_df) = df.randomSplit([0.9,0.05, 0.05])\n",
    "rf = RandomForestRegressor( labelCol = 'Value',maxDepth=10, numTrees=40)\n",
    "model = rf.fit(train_df)"
   ]
  },
  {
   "cell_type": "code",
   "execution_count": null,
   "metadata": {},
   "outputs": [],
   "source": [
    "# Evaluate model on train set."
   ]
  },
  {
   "cell_type": "code",
   "execution_count": 24,
   "metadata": {},
   "outputs": [
    {
     "name": "stdout",
     "output_type": "stream",
     "text": [
      "+--------------------+---------+--------------------+\n",
      "|          prediction|    Value|            features|\n",
      "+--------------------+---------+--------------------+\n",
      "|     868366.72187714| 825000.0|[1.0,2.0,2.0,1.0,...|\n",
      "|   2260826.533117898|1900000.0|[1.0,3.0,4.0,2.0,...|\n",
      "|   5250792.988781194|6000000.0|[1.0,3.0,3.0,2.0,...|\n",
      "|  407123.50770166266| 375000.0|[1.0,2.0,2.0,3.0,...|\n",
      "|   6912280.787282777|7500000.0|[2.0,3.0,3.0,2.0,...|\n",
      "|1.1232731638615882E7|   1.15E7|[1.0,2.0,4.0,3.0,...|\n",
      "|1.3202053648634627E7|    1.3E7|[3.0,4.0,4.0,3.0,...|\n",
      "|  161570.65284446787| 170000.0|[1.0,2.0,1.0,2.0,...|\n",
      "|   263240.7062658176| 230000.0|[1.0,2.0,2.0,2.0,...|\n",
      "|  170633.42212346237| 200000.0|[1.0,2.0,2.0,2.0,...|\n",
      "|  1594865.1727441791|1200000.0|[1.0,3.0,3.0,2.0,...|\n",
      "|   4742173.385044406|4700000.0|[2.0,3.0,3.0,3.0,...|\n",
      "|   95484.96994103766|  80000.0|[1.0,2.0,2.0,2.0,...|\n",
      "|   4560840.370777808|4400000.0|[1.0,4.0,3.0,2.0,...|\n",
      "|  2953426.8921676036|2200000.0|[2.0,4.0,3.0,3.0,...|\n",
      "|  377563.42831476167| 325000.0|[1.0,3.0,2.0,2.0,...|\n",
      "|   276507.9746262598| 250000.0|[1.0,3.0,2.0,2.0,...|\n",
      "|    272949.010315372| 200000.0|[1.0,4.0,2.0,2.0,...|\n",
      "|   274312.7499747672| 250000.0|[1.0,3.0,2.0,1.0,...|\n",
      "|  1328665.2458191444|1600000.0|[1.0,2.0,3.0,3.0,...|\n",
      "+--------------------+---------+--------------------+\n",
      "only showing top 20 rows\n",
      "\n"
     ]
    }
   ],
   "source": [
    "predictions = model.transform(train_df)\n",
    "predictions.select(\"prediction\", \"Value\", \"features\").show(20)"
   ]
  },
  {
   "cell_type": "code",
   "execution_count": null,
   "metadata": {},
   "outputs": [],
   "source": [
    "# Calculate rmse on train set."
   ]
  },
  {
   "cell_type": "code",
   "execution_count": 25,
   "metadata": {},
   "outputs": [
    {
     "data": {
      "text/plain": [
       "675225.2278570898"
      ]
     },
     "execution_count": 25,
     "metadata": {},
     "output_type": "execute_result"
    }
   ],
   "source": [
    "evaluator = RegressionEvaluator(labelCol=\"Value\", predictionCol=\"prediction\", metricName=\"rmse\")\n",
    "rmse = evaluator.evaluate(predictions)\n",
    "rmse"
   ]
  },
  {
   "cell_type": "code",
   "execution_count": null,
   "metadata": {},
   "outputs": [],
   "source": [
    "# Evaluate model on validation set."
   ]
  },
  {
   "cell_type": "code",
   "execution_count": 26,
   "metadata": {},
   "outputs": [
    {
     "name": "stdout",
     "output_type": "stream",
     "text": [
      "+--------------------+---------+--------------------+\n",
      "|          prediction|    Value|            features|\n",
      "+--------------------+---------+--------------------+\n",
      "|  1543503.1218146775|1400000.0|[1.0,2.0,1.0,2.0,...|\n",
      "|   303351.1443392128| 375000.0|[1.0,3.0,2.0,2.0,...|\n",
      "|1.1392524876373928E7|   1.15E7|[3.0,2.0,2.0,2.0,...|\n",
      "|1.8710766210645325E7|    1.4E7|[2.0,3.0,4.0,3.0,...|\n",
      "|   6136237.840264907|5000000.0|[1.0,3.0,4.0,2.0,...|\n",
      "|   1618296.285566496|1900000.0|[1.0,3.0,5.0,3.0,...|\n",
      "|  126880.15396327137| 150000.0|[1.0,3.0,2.0,1.0,...|\n",
      "|  2965542.3322684728|3000000.0|[1.0,3.0,4.0,2.0,...|\n",
      "|   957306.2928896623| 900000.0|[1.0,3.0,3.0,3.0,...|\n",
      "|   380968.5685684047| 180000.0|[1.0,4.0,2.0,3.0,...|\n",
      "|   213669.5139796901| 180000.0|[1.0,3.0,2.0,2.0,...|\n",
      "|   1445375.729445854|1600000.0|[1.0,3.0,3.0,3.0,...|\n",
      "|  349557.35659558506| 400000.0|[1.0,4.0,2.0,2.0,...|\n",
      "|   4125806.611115633|4200000.0|[1.0,2.0,3.0,3.0,...|\n",
      "|   387980.7340639687| 450000.0|[1.0,3.0,2.0,2.0,...|\n",
      "|   973897.5101068948|1100000.0|[1.0,4.0,3.0,2.0,...|\n",
      "|  232242.76850985765| 190000.0|[1.0,4.0,2.0,1.0,...|\n",
      "|  6978705.2202121345|5500000.0|[1.0,3.0,3.0,3.0,...|\n",
      "|  2973148.2363119153|3700000.0|[1.0,3.0,3.0,2.0,...|\n",
      "|    4108543.64956316|3200000.0|[1.0,5.0,4.0,3.0,...|\n",
      "+--------------------+---------+--------------------+\n",
      "only showing top 20 rows\n",
      "\n"
     ]
    }
   ],
   "source": [
    "predictions = model.transform(val_df)\n",
    "predictions.select(\"prediction\", \"Value\", \"features\").show(20)\n"
   ]
  },
  {
   "cell_type": "code",
   "execution_count": null,
   "metadata": {},
   "outputs": [],
   "source": [
    "# Calculate rmse on validation set. "
   ]
  },
  {
   "cell_type": "code",
   "execution_count": 29,
   "metadata": {},
   "outputs": [
    {
     "data": {
      "text/plain": [
       "1022283.8831797091"
      ]
     },
     "execution_count": 29,
     "metadata": {},
     "output_type": "execute_result"
    }
   ],
   "source": [
    "evaluator = RegressionEvaluator(labelCol=\"Value\", predictionCol=\"prediction\", metricName=\"rmse\")\n",
    "rmse = evaluator.evaluate(predictions)\n",
    "rmse"
   ]
  },
  {
   "cell_type": "code",
   "execution_count": null,
   "metadata": {},
   "outputs": [],
   "source": [
    "# Evaluate model on test set."
   ]
  },
  {
   "cell_type": "code",
   "execution_count": 30,
   "metadata": {},
   "outputs": [
    {
     "name": "stdout",
     "output_type": "stream",
     "text": [
      "+--------------------+---------+--------------------+\n",
      "|          prediction|    Value|            features|\n",
      "+--------------------+---------+--------------------+\n",
      "|   558442.2992566231| 525000.0|[1.0,3.0,2.0,1.0,...|\n",
      "|    537916.497736715| 425000.0|[1.0,3.0,3.0,3.0,...|\n",
      "|   725265.2094536925| 750000.0|[1.0,2.0,3.0,2.0,...|\n",
      "|   264950.2957194938| 300000.0|[1.0,3.0,2.0,2.0,...|\n",
      "|   267311.4924614284| 200000.0|[1.0,2.0,2.0,2.0,...|\n",
      "|  433089.19497975864| 400000.0|[1.0,3.0,2.0,2.0,...|\n",
      "|  1343440.4115827894|1500000.0|[1.0,3.0,2.0,2.0,...|\n",
      "|   6208119.207451368|6000000.0|[2.0,3.0,2.0,2.0,...|\n",
      "|   643735.8629622166| 950000.0|[1.0,4.0,2.0,2.0,...|\n",
      "|   295097.6208594922| 325000.0|[1.0,3.0,2.0,2.0,...|\n",
      "|  3593717.9490807517|3500000.0|[1.0,3.0,2.0,2.0,...|\n",
      "|   2175394.736218237|2700000.0|[1.0,2.0,1.0,2.0,...|\n",
      "|    6685905.14510939|7500000.0|[2.0,3.0,3.0,3.0,...|\n",
      "|   399704.5867146278| 325000.0|[1.0,3.0,1.0,2.0,...|\n",
      "|  1052020.6305078263|1200000.0|[1.0,2.0,3.0,3.0,...|\n",
      "|  434585.70611710846| 375000.0|[1.0,2.0,1.0,2.0,...|\n",
      "|    6356337.12002668|7000000.0|[1.0,4.0,2.0,2.0,...|\n",
      "|4.8049572510822505E7|    4.2E7|[3.0,3.0,5.0,3.0,...|\n",
      "|  144110.49250237417| 140000.0|[1.0,2.0,2.0,2.0,...|\n",
      "|   89183.75132261883|  90000.0|(14,[0,1,2,3,4,7,...|\n",
      "+--------------------+---------+--------------------+\n",
      "only showing top 20 rows\n",
      "\n"
     ]
    }
   ],
   "source": [
    "predictions = model.transform(test_df)\n",
    "predictions.select(\"prediction\", \"Value\", \"features\").show(20)\n"
   ]
  },
  {
   "cell_type": "code",
   "execution_count": null,
   "metadata": {},
   "outputs": [],
   "source": [
    "# Calculate rmse on test set. It is less than a million Euros. Hence, our algorithm is pretty good."
   ]
  },
  {
   "cell_type": "code",
   "execution_count": 31,
   "metadata": {},
   "outputs": [
    {
     "data": {
      "text/plain": [
       "875765.0537698619"
      ]
     },
     "execution_count": 31,
     "metadata": {},
     "output_type": "execute_result"
    }
   ],
   "source": [
    "evaluator = RegressionEvaluator(labelCol=\"Value\", predictionCol=\"prediction\", metricName=\"rmse\")\n",
    "rmse = evaluator.evaluate(predictions)\n",
    "rmse"
   ]
  },
  {
   "cell_type": "code",
   "execution_count": null,
   "metadata": {},
   "outputs": [],
   "source": []
  }
 ],
 "metadata": {
  "kernelspec": {
   "display_name": "Python 3.5 with Spark 2.1",
   "language": "python",
   "name": "python3-spark21"
  },
  "language_info": {
   "codemirror_mode": {
    "name": "ipython",
    "version": 3
   },
   "file_extension": ".py",
   "mimetype": "text/x-python",
   "name": "python",
   "nbconvert_exporter": "python",
   "pygments_lexer": "ipython3",
   "version": "3.5.4"
  }
 },
 "nbformat": 4,
 "nbformat_minor": 1
}
