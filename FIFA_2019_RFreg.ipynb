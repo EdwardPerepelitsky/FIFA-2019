{
 "cells": [
  {
   "cell_type": "code",
   "execution_count": 1,
   "metadata": {},
   "outputs": [],
   "source": [
    "# In this notebook, we will use stats of soccer players on the 2019 FIFA roster to predict their value."
   ]
  },
  {
   "cell_type": "code",
   "execution_count": 2,
   "metadata": {},
   "outputs": [],
   "source": [
    "# Load data from csv file."
   ]
  },
  {
   "cell_type": "code",
   "execution_count": 3,
   "metadata": {},
   "outputs": [
    {
     "name": "stdout",
     "output_type": "stream",
     "text": [
      "+---+------+-----------------+---+--------------------+-----------+--------------------+-------+---------+-------------------+--------------------+-------+-----+-------+--------------+------------------------+---------+-----------+--------------+----------+---------+--------+-------------+------------+-----------+--------------------+------+------+----+----+----+----+----+----+----+----+----+----+----+----+----+----+----+----+----+----+----+----+----+----+----+----+----+----+--------+---------+---------------+------------+-------+---------+-----+----------+-----------+-----------+------------+-----------+-------+---------+-------+---------+-------+-------+--------+---------+----------+-------------+-----------+------+---------+---------+-------+--------------+-------------+--------+----------+---------+-------------+----------+--------------+\n",
      "|_c0|    ID|             Name|Age|               Photo|Nationality|                Flag|Overall|Potential|               Club|           Club Logo|  Value| Wage|Special|Preferred Foot|International Reputation|Weak Foot|Skill Moves|     Work Rate| Body Type|Real Face|Position|Jersey Number|      Joined|Loaned From|Contract Valid Until|Height|Weight|  LS|  ST|  RS|  LW|  LF|  CF|  RF|  RW| LAM| CAM| RAM|  LM| LCM|  CM| RCM|  RM| LWB| LDM| CDM| RDM| RWB|  LB| LCB|  CB| RCB|  RB|Crossing|Finishing|HeadingAccuracy|ShortPassing|Volleys|Dribbling|Curve|FKAccuracy|LongPassing|BallControl|Acceleration|SprintSpeed|Agility|Reactions|Balance|ShotPower|Jumping|Stamina|Strength|LongShots|Aggression|Interceptions|Positioning|Vision|Penalties|Composure|Marking|StandingTackle|SlidingTackle|GKDiving|GKHandling|GKKicking|GKPositioning|GKReflexes|Release Clause|\n",
      "+---+------+-----------------+---+--------------------+-----------+--------------------+-------+---------+-------------------+--------------------+-------+-----+-------+--------------+------------------------+---------+-----------+--------------+----------+---------+--------+-------------+------------+-----------+--------------------+------+------+----+----+----+----+----+----+----+----+----+----+----+----+----+----+----+----+----+----+----+----+----+----+----+----+----+----+--------+---------+---------------+------------+-------+---------+-----+----------+-----------+-----------+------------+-----------+-------+---------+-------+---------+-------+-------+--------+---------+----------+-------------+-----------+------+---------+---------+-------+--------------+-------------+--------+----------+---------+-------------+----------+--------------+\n",
      "|  0|158023|         L. Messi| 31|https://cdn.sofif...|  Argentina|https://cdn.sofif...|     94|       94|       FC Barcelona|https://cdn.sofif...|€110.5M|€565K|   2202|          Left|                       5|        4|          4|Medium/ Medium|     Messi|      Yes|      RF|           10| Jul 1, 2004|       null|                2021|   5'7|159lbs|88+2|88+2|88+2|92+2|93+2|93+2|93+2|92+2|93+2|93+2|93+2|91+2|84+2|84+2|84+2|91+2|64+2|61+2|61+2|61+2|64+2|59+2|47+2|47+2|47+2|59+2|      84|       95|             70|          90|     86|       97|   93|        94|         87|         96|          91|         86|     91|       95|     95|       85|     68|     72|      59|       94|        48|           22|         94|    94|       75|       96|     33|            28|           26|       6|        11|       15|           14|         8|       €226.5M|\n",
      "|  1| 20801|Cristiano Ronaldo| 33|https://cdn.sofif...|   Portugal|https://cdn.sofif...|     94|       94|           Juventus|https://cdn.sofif...|   €77M|€405K|   2228|         Right|                       5|        4|          5|     High/ Low|C. Ronaldo|      Yes|      ST|            7|Jul 10, 2018|       null|                2022|   6'2|183lbs|91+3|91+3|91+3|89+3|90+3|90+3|90+3|89+3|88+3|88+3|88+3|88+3|81+3|81+3|81+3|88+3|65+3|61+3|61+3|61+3|65+3|61+3|53+3|53+3|53+3|61+3|      84|       94|             89|          81|     87|       88|   81|        76|         77|         94|          89|         91|     87|       96|     70|       95|     95|     88|      79|       93|        63|           29|         95|    82|       85|       95|     28|            31|           23|       7|        11|       15|           14|        11|       €127.1M|\n",
      "|  2|190871|        Neymar Jr| 26|https://cdn.sofif...|     Brazil|https://cdn.sofif...|     92|       93|Paris Saint-Germain|https://cdn.sofif...|€118.5M|€290K|   2143|         Right|                       5|        5|          5|  High/ Medium|    Neymar|      Yes|      LW|           10| Aug 3, 2017|       null|                2022|   5'9|150lbs|84+3|84+3|84+3|89+3|89+3|89+3|89+3|89+3|89+3|89+3|89+3|88+3|81+3|81+3|81+3|88+3|65+3|60+3|60+3|60+3|65+3|60+3|47+3|47+3|47+3|60+3|      79|       87|             62|          84|     84|       96|   88|        87|         78|         95|          94|         90|     96|       94|     84|       80|     61|     81|      49|       82|        56|           36|         89|    87|       81|       94|     27|            24|           33|       9|         9|       15|           15|        11|       €228.1M|\n",
      "|  3|193080|           De Gea| 27|https://cdn.sofif...|      Spain|https://cdn.sofif...|     91|       93|  Manchester United|https://cdn.sofif...|   €72M|€260K|   1471|         Right|                       4|        3|          1|Medium/ Medium|      Lean|      Yes|      GK|            1| Jul 1, 2011|       null|                2020|   6'4|168lbs|null|null|null|null|null|null|null|null|null|null|null|null|null|null|null|null|null|null|null|null|null|null|null|null|null|null|      17|       13|             21|          50|     13|       18|   21|        19|         51|         42|          57|         58|     60|       90|     43|       31|     67|     43|      64|       12|        38|           30|         12|    68|       40|       68|     15|            21|           13|      90|        85|       87|           88|        94|       €138.6M|\n",
      "|  4|192985|     K. De Bruyne| 27|https://cdn.sofif...|    Belgium|https://cdn.sofif...|     91|       92|    Manchester City|https://cdn.sofif...|  €102M|€355K|   2281|         Right|                       4|        5|          4|    High/ High|    Normal|      Yes|     RCM|            7|Aug 30, 2015|       null|                2023|  5'11|154lbs|82+3|82+3|82+3|87+3|87+3|87+3|87+3|87+3|88+3|88+3|88+3|88+3|87+3|87+3|87+3|88+3|77+3|77+3|77+3|77+3|77+3|73+3|66+3|66+3|66+3|73+3|      93|       82|             55|          92|     82|       86|   85|        83|         91|         91|          78|         76|     79|       91|     77|       91|     63|     90|      75|       91|        76|           61|         87|    94|       79|       88|     68|            58|           51|      15|        13|        5|           10|        13|       €196.4M|\n",
      "|  5|183277|        E. Hazard| 27|https://cdn.sofif...|    Belgium|https://cdn.sofif...|     91|       91|            Chelsea|https://cdn.sofif...|   €93M|€340K|   2142|         Right|                       4|        4|          4|  High/ Medium|    Normal|      Yes|      LF|           10| Jul 1, 2012|       null|                2020|   5'8|163lbs|83+3|83+3|83+3|89+3|88+3|88+3|88+3|89+3|89+3|89+3|89+3|89+3|82+3|82+3|82+3|89+3|66+3|63+3|63+3|63+3|66+3|60+3|49+3|49+3|49+3|60+3|      81|       84|             61|          89|     80|       95|   83|        79|         83|         94|          94|         88|     95|       90|     94|       82|     56|     83|      66|       80|        54|           41|         87|    89|       86|       91|     34|            27|           22|      11|        12|        6|            8|         8|       €172.1M|\n",
      "|  6|177003|        L. Modrić| 32|https://cdn.sofif...|    Croatia|https://cdn.sofif...|     91|       91|        Real Madrid|https://cdn.sofif...|   €67M|€420K|   2280|         Right|                       4|        4|          4|    High/ High|      Lean|      Yes|     RCM|           10| Aug 1, 2012|       null|                2020|   5'8|146lbs|77+3|77+3|77+3|85+3|84+3|84+3|84+3|85+3|87+3|87+3|87+3|86+3|88+3|88+3|88+3|86+3|82+3|81+3|81+3|81+3|82+3|79+3|71+3|71+3|71+3|79+3|      86|       72|             55|          93|     76|       90|   85|        78|         88|         93|          80|         72|     93|       90|     94|       79|     68|     89|      58|       82|        62|           83|         79|    92|       82|       84|     60|            76|           73|      13|         9|        7|           14|         9|       €137.4M|\n",
      "|  7|176580|        L. Suárez| 31|https://cdn.sofif...|    Uruguay|https://cdn.sofif...|     91|       91|       FC Barcelona|https://cdn.sofif...|   €80M|€455K|   2346|         Right|                       5|        4|          3|  High/ Medium|    Normal|      Yes|      RS|            9|Jul 11, 2014|       null|                2021|   6'0|190lbs|87+5|87+5|87+5|86+5|87+5|87+5|87+5|86+5|85+5|85+5|85+5|84+5|79+5|79+5|79+5|84+5|69+5|68+5|68+5|68+5|69+5|66+5|63+5|63+5|63+5|66+5|      77|       93|             77|          82|     88|       87|   86|        84|         64|         90|          86|         75|     82|       92|     83|       86|     69|     90|      83|       85|        87|           41|         92|    84|       85|       85|     62|            45|           38|      27|        25|       31|           33|        37|         €164M|\n",
      "|  8|155862|     Sergio Ramos| 32|https://cdn.sofif...|      Spain|https://cdn.sofif...|     91|       91|        Real Madrid|https://cdn.sofif...|   €51M|€380K|   2201|         Right|                       4|        3|          3|  High/ Medium|    Normal|      Yes|     RCB|           15| Aug 1, 2005|       null|                2020|   6'0|181lbs|73+3|73+3|73+3|70+3|71+3|71+3|71+3|70+3|71+3|71+3|71+3|72+3|75+3|75+3|75+3|72+3|81+3|84+3|84+3|84+3|81+3|84+3|87+3|87+3|87+3|84+3|      66|       60|             91|          78|     66|       63|   74|        72|         77|         84|          76|         75|     78|       85|     66|       79|     93|     84|      83|       59|        88|           90|         60|    63|       75|       82|     87|            92|           91|      11|         8|        9|            7|        11|       €104.6M|\n",
      "|  9|200389|         J. Oblak| 25|https://cdn.sofif...|   Slovenia|https://cdn.sofif...|     90|       93|    Atlético Madrid|https://cdn.sofif...|   €68M| €94K|   1331|         Right|                       3|        3|          1|Medium/ Medium|    Normal|      Yes|      GK|            1|Jul 16, 2014|       null|                2021|   6'2|192lbs|null|null|null|null|null|null|null|null|null|null|null|null|null|null|null|null|null|null|null|null|null|null|null|null|null|null|      13|       11|             15|          29|     13|       12|   13|        14|         26|         16|          43|         60|     67|       86|     49|       22|     76|     41|      78|       12|        34|           19|         11|    70|       11|       70|     27|            12|           18|      86|        92|       78|           88|        89|       €144.5M|\n",
      "| 10|188545|   R. Lewandowski| 29|https://cdn.sofif...|     Poland|https://cdn.sofif...|     90|       90|  FC Bayern München|https://cdn.sofif...|   €77M|€205K|   2152|         Right|                       4|        4|          4|  High/ Medium|    Normal|      Yes|      ST|            9| Jul 1, 2014|       null|                2021|   6'0|176lbs|87+3|87+3|87+3|83+3|86+3|86+3|86+3|83+3|83+3|83+3|83+3|81+3|77+3|77+3|77+3|81+3|61+3|62+3|62+3|62+3|61+3|58+3|57+3|57+3|57+3|58+3|      62|       91|             85|          83|     89|       85|   77|        86|         65|         89|          77|         78|     78|       90|     78|       88|     84|     78|      84|       84|        80|           39|         91|    77|       88|       86|     34|            42|           19|      15|         6|       12|            8|        10|       €127.1M|\n",
      "| 11|182521|         T. Kroos| 28|https://cdn.sofif...|    Germany|https://cdn.sofif...|     90|       90|        Real Madrid|https://cdn.sofif...| €76.5M|€355K|   2190|         Right|                       4|        5|          3|Medium/ Medium|    Normal|      Yes|     LCM|            8|Jul 17, 2014|       null|                2022|   6'0|168lbs|78+3|78+3|78+3|81+3|82+3|82+3|82+3|81+3|84+3|84+3|84+3|82+3|86+3|86+3|86+3|82+3|79+3|82+3|82+3|82+3|79+3|77+3|72+3|72+3|72+3|77+3|      88|       76|             54|          92|     82|       81|   86|        84|         93|         90|          64|         62|     70|       89|     71|       87|     30|     75|      73|       92|        60|           82|         79|    86|       73|       85|     72|            79|           69|      10|        11|       13|            7|        10|       €156.8M|\n",
      "| 12|182493|         D. Godín| 32|https://cdn.sofif...|    Uruguay|https://cdn.sofif...|     90|       90|    Atlético Madrid|https://cdn.sofif...|   €44M|€125K|   1946|         Right|                       3|        3|          2|  Medium/ High|      Lean|      Yes|      CB|           10| Aug 4, 2010|       null|                2019|   6'2|172lbs|64+3|64+3|64+3|61+3|62+3|62+3|62+3|61+3|62+3|62+3|62+3|63+3|68+3|68+3|68+3|63+3|76+3|81+3|81+3|81+3|76+3|79+3|87+3|87+3|87+3|79+3|      55|       42|             92|          79|     47|       53|   49|        51|         70|         76|          68|         68|     58|       85|     54|       67|     91|     66|      88|       43|        89|           88|         48|    52|       50|       82|     90|            89|           89|       6|         8|       15|            5|        15|        €90.2M|\n",
      "| 13|168542|      David Silva| 32|https://cdn.sofif...|      Spain|https://cdn.sofif...|     90|       90|    Manchester City|https://cdn.sofif...|   €60M|€285K|   2115|          Left|                       4|        2|          4|  High/ Medium|    Normal|      Yes|     LCM|           21|Jul 14, 2010|       null|                2020|   5'8|148lbs|77+3|77+3|77+3|85+3|84+3|84+3|84+3|85+3|87+3|87+3|87+3|85+3|85+3|85+3|85+3|85+3|69+3|70+3|70+3|70+3|69+3|64+3|57+3|57+3|57+3|64+3|      84|       76|             54|          93|     82|       89|   82|        77|         87|         94|          70|         64|     92|       90|     90|       72|     64|     78|      52|       75|        57|           50|         89|    92|       75|       93|     59|            53|           29|       6|        15|        7|            6|        12|         €111M|\n",
      "| 14|215914|         N. Kanté| 27|https://cdn.sofif...|     France|https://cdn.sofif...|     89|       90|            Chelsea|https://cdn.sofif...|   €63M|€225K|   2189|         Right|                       3|        3|          2|  Medium/ High|      Lean|      Yes|     LDM|           13|Jul 16, 2016|       null|                2023|   5'6|159lbs|72+3|72+3|72+3|77+3|77+3|77+3|77+3|77+3|79+3|79+3|79+3|79+3|82+3|82+3|82+3|79+3|85+3|87+3|87+3|87+3|85+3|84+3|83+3|83+3|83+3|84+3|      68|       65|             54|          86|     56|       79|   49|        49|         81|         80|          82|         78|     82|       93|     92|       71|     77|     96|      76|       69|        90|           92|         71|    79|       54|       85|     90|            91|           85|      15|        12|       10|            7|        10|       €121.3M|\n",
      "| 15|211110|        P. Dybala| 24|https://cdn.sofif...|  Argentina|https://cdn.sofif...|     89|       94|           Juventus|https://cdn.sofif...|   €89M|€205K|   2092|          Left|                       3|        3|          4|  High/ Medium|    Normal|      Yes|      LF|           21| Jul 1, 2015|       null|                2022|  5'10|165lbs|83+3|83+3|83+3|87+3|86+3|86+3|86+3|87+3|87+3|87+3|87+3|86+3|79+3|79+3|79+3|86+3|62+3|58+3|58+3|58+3|62+3|56+3|45+3|45+3|45+3|56+3|      82|       84|             68|          87|     88|       92|   88|        88|         75|         92|          87|         83|     91|       86|     85|       82|     75|     80|      65|       88|        48|           32|         84|    87|       86|       84|     23|            20|           20|       5|         4|        4|            5|         8|       €153.5M|\n",
      "| 16|202126|          H. Kane| 24|https://cdn.sofif...|    England|https://cdn.sofif...|     89|       91|  Tottenham Hotspur|https://cdn.sofif...| €83.5M|€205K|   2165|         Right|                       3|        4|          3|    High/ High|    Normal|      Yes|      ST|            9| Jul 1, 2010|       null|                2024|   6'2|196lbs|86+3|86+3|86+3|82+3|84+3|84+3|84+3|82+3|82+3|82+3|82+3|81+3|79+3|79+3|79+3|81+3|65+3|66+3|66+3|66+3|65+3|62+3|60+3|60+3|60+3|62+3|      75|       94|             85|          80|     84|       80|   78|        68|         82|         84|          68|         72|     71|       91|     71|       88|     78|     89|      84|       85|        76|           35|         93|    80|       90|       89|     56|            36|           38|       8|        10|       11|           14|        11|       €160.7M|\n",
      "| 17|194765|     A. Griezmann| 27|https://cdn.sofif...|     France|https://cdn.sofif...|     89|       90|    Atlético Madrid|https://cdn.sofif...|   €78M|€145K|   2246|          Left|                       4|        3|          4|    High/ High|      Lean|      Yes|     CAM|            7|Jul 28, 2014|       null|                2023|   5'9|161lbs|86+3|86+3|86+3|87+3|87+3|87+3|87+3|87+3|86+3|86+3|86+3|86+3|80+3|80+3|80+3|86+3|70+3|67+3|67+3|67+3|70+3|67+3|61+3|61+3|61+3|67+3|      82|       90|             84|          83|     87|       88|   84|        78|         76|         90|          88|         85|     90|       90|     80|       80|     90|     83|      62|       82|        69|           35|         91|    83|       79|       87|     59|            47|           48|      14|         8|       14|           13|        14|       €165.8M|\n",
      "| 18|192448|    M. ter Stegen| 26|https://cdn.sofif...|    Germany|https://cdn.sofif...|     89|       92|       FC Barcelona|https://cdn.sofif...|   €58M|€240K|   1328|         Right|                       3|        4|          1|Medium/ Medium|    Normal|      Yes|      GK|           22| Jul 1, 2014|       null|                2022|   6'2|187lbs|null|null|null|null|null|null|null|null|null|null|null|null|null|null|null|null|null|null|null|null|null|null|null|null|null|null|      15|       14|             11|          36|     14|       17|   18|        12|         42|         18|          38|         50|     37|       85|     43|       22|     79|     35|      79|       10|        43|           22|         11|    69|       25|       69|     25|            13|           10|      87|        85|       88|           85|        90|       €123.3M|\n",
      "| 19|192119|      T. Courtois| 26|https://cdn.sofif...|    Belgium|https://cdn.sofif...|     89|       90|        Real Madrid|https://cdn.sofif...| €53.5M|€240K|   1311|          Left|                       4|        2|          1|Medium/ Medium|  Courtois|      Yes|      GK|            1| Aug 9, 2018|       null|                2024|   6'6|212lbs|null|null|null|null|null|null|null|null|null|null|null|null|null|null|null|null|null|null|null|null|null|null|null|null|null|null|      14|       14|             13|          33|     12|       13|   19|        20|         35|         23|          46|         52|     61|       84|     45|       36|     68|     38|      70|       17|        23|           15|         13|    44|       27|       66|     20|            18|           16|      85|        91|       72|           86|        88|       €113.7M|\n",
      "+---+------+-----------------+---+--------------------+-----------+--------------------+-------+---------+-------------------+--------------------+-------+-----+-------+--------------+------------------------+---------+-----------+--------------+----------+---------+--------+-------------+------------+-----------+--------------------+------+------+----+----+----+----+----+----+----+----+----+----+----+----+----+----+----+----+----+----+----+----+----+----+----+----+----+----+--------+---------+---------------+------------+-------+---------+-----+----------+-----------+-----------+------------+-----------+-------+---------+-------+---------+-------+-------+--------+---------+----------+-------------+-----------+------+---------+---------+-------+--------------+-------------+--------+----------+---------+-------------+----------+--------------+\n",
      "only showing top 20 rows\n",
      "\n"
     ]
    }
   ],
   "source": [
    "import ibmos2spark\n",
    "\n",
    "# @hidden_cell\n",
    "credentials = {\n",
    "    'endpoint': 'https://s3-api.us-geo.objectstorage.service.networklayer.com',\n",
    "    'api_key': '3SRWJdZAZuTWsEkdcy-zVHrwCLnm4zfxZNtU1JfeoaBe',\n",
    "    'service_id': 'iam-ServiceId-a7d6e3b0-c39e-4bfa-b544-cd1ca735bd64',\n",
    "    'iam_service_endpoint': 'https://iam.bluemix.net/oidc/token'}\n",
    "\n",
    "configuration_name = 'os_cef4952e05d8448491fd616525870fe7_configs'\n",
    "cos = ibmos2spark.CloudObjectStorage(sc, credentials, configuration_name, 'bluemix_cos')\n",
    "\n",
    "from pyspark.sql import SparkSession\n",
    "spark = SparkSession.builder.getOrCreate()\n",
    "df_data_1 = spark.read\\\n",
    "  .format('org.apache.spark.sql.execution.datasources.csv.CSVFileFormat')\\\n",
    "  .option('header', 'true')\\\n",
    "  .load(cos.url('data.csv', 'default-donotdelete-pr-veoveo1lavfexy'))\n",
    "df_data_1.show()\n"
   ]
  },
  {
   "cell_type": "code",
   "execution_count": 4,
   "metadata": {},
   "outputs": [],
   "source": [
    "# We first replace spaces with underscores in the column names."
   ]
  },
  {
   "cell_type": "code",
   "execution_count": 5,
   "metadata": {},
   "outputs": [],
   "source": [
    "def nospace(name):\n",
    "    name = name.split(\" \")\n",
    "    name = \"_\".join(name)\n",
    "    return name"
   ]
  },
  {
   "cell_type": "code",
   "execution_count": 6,
   "metadata": {},
   "outputs": [],
   "source": [
    "new_columns = list(map(nospace,df_data_1.columns))\n",
    "old_columns = df_data_1.columns\n",
    "for new_c, old_c in zip(new_columns,old_columns):\n",
    "    df_data_1 = df_data_1.withColumnRenamed(old_c,new_c)"
   ]
  },
  {
   "cell_type": "code",
   "execution_count": 7,
   "metadata": {},
   "outputs": [],
   "source": [
    "# Export the data frame to a .parquet file on cloud object store. Then read it in as a data frame."
   ]
  },
  {
   "cell_type": "code",
   "execution_count": 8,
   "metadata": {},
   "outputs": [],
   "source": [
    "df_data_1 = df_data_1.repartition(1)\n",
    "df_data_1.write.parquet(cos.url('FIFA.parquet', 'default-donotdelete-pr-veoveo1lavfexy'),mode = 'overwrite')"
   ]
  },
  {
   "cell_type": "code",
   "execution_count": 9,
   "metadata": {},
   "outputs": [],
   "source": [
    "df_load = spark.read.parquet(cos.url('FIFA.parquet', 'default-donotdelete-pr-veoveo1lavfexy'))"
   ]
  },
  {
   "cell_type": "code",
   "execution_count": 10,
   "metadata": {},
   "outputs": [],
   "source": [
    "# Let's start by selecting the value column and the stats that we will use to predict it."
   ]
  },
  {
   "cell_type": "code",
   "execution_count": 11,
   "metadata": {},
   "outputs": [],
   "source": [
    "# Specific skills of each player are given in columns 54 through 87."
   ]
  },
  {
   "cell_type": "code",
   "execution_count": 12,
   "metadata": {},
   "outputs": [],
   "source": [
    "skills = df_load.columns[54:88]\n",
    "df = df_load.select('Name','Age','Overall','Potential','Value','International_Reputation','Skill_Moves','Position',*skills)"
   ]
  },
  {
   "cell_type": "code",
   "execution_count": 13,
   "metadata": {},
   "outputs": [],
   "source": [
    "# get_value converts the value column to double format."
   ]
  },
  {
   "cell_type": "code",
   "execution_count": 14,
   "metadata": {},
   "outputs": [],
   "source": [
    "def get_value(s):\n",
    "    \n",
    "    last = s[-1]\n",
    "    s = s[1:-1]\n",
    "    try:\n",
    "        val = float(s)\n",
    "    except:\n",
    "        return 0.0\n",
    "    \n",
    "    if last == 'M':\n",
    "        val = val * 1000000.0\n",
    "    if last == 'K':\n",
    "        val = val * 1000.0\n",
    "    return val"
   ]
  },
  {
   "cell_type": "code",
   "execution_count": 15,
   "metadata": {},
   "outputs": [],
   "source": [
    "# apply get_value to the value column."
   ]
  },
  {
   "cell_type": "code",
   "execution_count": 16,
   "metadata": {},
   "outputs": [],
   "source": [
    "from pyspark.sql.functions import udf\n",
    "from pyspark.sql.types import DoubleType\n",
    "get_val_func = udf(get_value,DoubleType())\n",
    "df = df.withColumn('Value',get_val_func('Value'))"
   ]
  },
  {
   "cell_type": "code",
   "execution_count": 17,
   "metadata": {},
   "outputs": [],
   "source": [
    "df = df.dropna(subset='Value')\n",
    "df = df.filter(df.Value != 0)"
   ]
  },
  {
   "cell_type": "code",
   "execution_count": 18,
   "metadata": {},
   "outputs": [],
   "source": [
    "# There are quite a few positions listed. We reduce these to just five: Goalie, back, midfielder, winger, and striker.\n",
    "# We will number these 1 to 5, with increasing number moving further up the field."
   ]
  },
  {
   "cell_type": "code",
   "execution_count": 19,
   "metadata": {},
   "outputs": [],
   "source": [
    "def Pos(s):\n",
    "    if s is None:\n",
    "        return None\n",
    "    if 'G' in s:\n",
    "        return 1.0\n",
    "    if 'B' in s:\n",
    "        return 2.0\n",
    "    if 'M' in s:\n",
    "        return 3.0\n",
    "    if 'W' in s:\n",
    "        return 4.0\n",
    "    if 'S' in s or 'F' in s:\n",
    "        return 5.0"
   ]
  },
  {
   "cell_type": "code",
   "execution_count": 20,
   "metadata": {},
   "outputs": [],
   "source": [
    "Pos_func = udf(Pos,DoubleType())\n",
    "df = df.withColumn('Position',Pos_func('Position'))"
   ]
  },
  {
   "cell_type": "code",
   "execution_count": 21,
   "metadata": {},
   "outputs": [
    {
     "name": "stdout",
     "output_type": "stream",
     "text": [
      "+-----------------+-------+--------+\n",
      "|             Name|  Value|Position|\n",
      "+-----------------+-------+--------+\n",
      "|         L. Messi|1.105E8|     5.0|\n",
      "|Cristiano Ronaldo|  7.7E7|     5.0|\n",
      "|        Neymar Jr|1.185E8|     4.0|\n",
      "|           De Gea|  7.2E7|     1.0|\n",
      "|     K. De Bruyne| 1.02E8|     3.0|\n",
      "+-----------------+-------+--------+\n",
      "only showing top 5 rows\n",
      "\n"
     ]
    }
   ],
   "source": [
    "df.select('Name','Value','Position').show(5)"
   ]
  },
  {
   "cell_type": "code",
   "execution_count": 22,
   "metadata": {},
   "outputs": [],
   "source": [
    "# There are many skills listed, but many of the skills are position specific. For example, we don't want to judge a striker based on his goalkeeping skills.\n",
    "# Therefore, we average the top num_skills skills from each player, reducing many columns to just one. The hyperparameter num_skills can be tuned."
   ]
  },
  {
   "cell_type": "code",
   "execution_count": 23,
   "metadata": {},
   "outputs": [],
   "source": [
    "def avg_best(*scores):\n",
    "    num_skills=5\n",
    "    scores = list(scores)\n",
    "    while None in scores:\n",
    "        scores.remove(None)\n",
    "    if len(scores)==0:\n",
    "        return None\n",
    "    elif len(scores)< num_skills:\n",
    "        num_skills = len(scores)\n",
    "    scores = list(map(float,scores))\n",
    "    scores.sort()\n",
    "    scores.reverse()\n",
    "    scores = scores[0:num_skills]\n",
    "    return sum(scores)/num_skills"
   ]
  },
  {
   "cell_type": "code",
   "execution_count": 24,
   "metadata": {},
   "outputs": [],
   "source": [
    "avg_best_func = udf(avg_best,DoubleType())\n",
    "other_cols = df.columns\n",
    "for col in skills:\n",
    "    other_cols.remove(col)\n",
    "df = df.select(*other_cols,avg_best_func(*skills).alias('avg_best'))"
   ]
  },
  {
   "cell_type": "code",
   "execution_count": 25,
   "metadata": {},
   "outputs": [
    {
     "name": "stdout",
     "output_type": "stream",
     "text": [
      "+-----------------+-------+--------+--------+\n",
      "|             Name|  Value|Position|avg_best|\n",
      "+-----------------+-------+--------+--------+\n",
      "|         L. Messi|1.105E8|     5.0|    95.8|\n",
      "|Cristiano Ronaldo|  7.7E7|     5.0|    95.2|\n",
      "|        Neymar Jr|1.185E8|     4.0|    95.0|\n",
      "|           De Gea|  7.2E7|     1.0|    89.8|\n",
      "|     K. De Bruyne| 1.02E8|     3.0|    92.2|\n",
      "+-----------------+-------+--------+--------+\n",
      "only showing top 5 rows\n",
      "\n"
     ]
    }
   ],
   "source": [
    "df.select('Name','Value','Position','avg_best').show(5)"
   ]
  },
  {
   "cell_type": "code",
   "execution_count": 26,
   "metadata": {},
   "outputs": [],
   "source": [
    "# We now convert all columns except 'Name' to doubles"
   ]
  },
  {
   "cell_type": "code",
   "execution_count": 27,
   "metadata": {},
   "outputs": [],
   "source": [
    "cols = df.columns\n",
    "cols.remove('Name')\n",
    "cols.remove('Value')\n",
    "\n",
    "\n",
    "for col in cols:\n",
    "    df = df.withColumn(col, df[col].cast(DoubleType()))"
   ]
  },
  {
   "cell_type": "code",
   "execution_count": 28,
   "metadata": {},
   "outputs": [
    {
     "name": "stdout",
     "output_type": "stream",
     "text": [
      "+-----------------+----+-------+---------+-------+------------------------+-----------+--------+--------+\n",
      "|             Name| Age|Overall|Potential|  Value|International_Reputation|Skill_Moves|Position|avg_best|\n",
      "+-----------------+----+-------+---------+-------+------------------------+-----------+--------+--------+\n",
      "|         L. Messi|31.0|   94.0|     94.0|1.105E8|                     5.0|        4.0|     5.0|    95.8|\n",
      "|Cristiano Ronaldo|33.0|   94.0|     94.0|  7.7E7|                     5.0|        5.0|     5.0|    95.2|\n",
      "|        Neymar Jr|26.0|   92.0|     93.0|1.185E8|                     5.0|        5.0|     4.0|    95.0|\n",
      "|           De Gea|27.0|   91.0|     93.0|  7.2E7|                     4.0|        1.0|     1.0|    89.8|\n",
      "|     K. De Bruyne|27.0|   91.0|     92.0| 1.02E8|                     4.0|        4.0|     3.0|    92.2|\n",
      "+-----------------+----+-------+---------+-------+------------------------+-----------+--------+--------+\n",
      "only showing top 5 rows\n",
      "\n"
     ]
    }
   ],
   "source": [
    "df.show(5)"
   ]
  },
  {
   "cell_type": "code",
   "execution_count": 29,
   "metadata": {},
   "outputs": [],
   "source": [
    "# We replace any missing values with their median accross the dataframe."
   ]
  },
  {
   "cell_type": "code",
   "execution_count": 30,
   "metadata": {},
   "outputs": [
    {
     "data": {
      "text/plain": [
       "{'Age': 25.0,\n",
       " 'International_Reputation': 1.0,\n",
       " 'Overall': 66.0,\n",
       " 'Position': 3.0,\n",
       " 'Potential': 71.0,\n",
       " 'Skill_Moves': 2.0,\n",
       " 'avg_best': 73.8}"
      ]
     },
     "execution_count": 30,
     "metadata": {},
     "output_type": "execute_result"
    }
   ],
   "source": [
    "med_dict = {}\n",
    "for col in cols:\n",
    "    med_dict[col] = df.approxQuantile(col,[0.5],0)[0]\n",
    "    \n",
    "med_dict"
   ]
  },
  {
   "cell_type": "code",
   "execution_count": 31,
   "metadata": {},
   "outputs": [],
   "source": [
    "df = df.fillna(med_dict)"
   ]
  },
  {
   "cell_type": "code",
   "execution_count": 32,
   "metadata": {},
   "outputs": [
    {
     "name": "stdout",
     "output_type": "stream",
     "text": [
      "+-----------------+----+-------+---------+-------+------------------------+-----------+--------+--------+\n",
      "|             Name| Age|Overall|Potential|  Value|International_Reputation|Skill_Moves|Position|avg_best|\n",
      "+-----------------+----+-------+---------+-------+------------------------+-----------+--------+--------+\n",
      "|         L. Messi|31.0|   94.0|     94.0|1.105E8|                     5.0|        4.0|     5.0|    95.8|\n",
      "|Cristiano Ronaldo|33.0|   94.0|     94.0|  7.7E7|                     5.0|        5.0|     5.0|    95.2|\n",
      "|        Neymar Jr|26.0|   92.0|     93.0|1.185E8|                     5.0|        5.0|     4.0|    95.0|\n",
      "|           De Gea|27.0|   91.0|     93.0|  7.2E7|                     4.0|        1.0|     1.0|    89.8|\n",
      "|     K. De Bruyne|27.0|   91.0|     92.0| 1.02E8|                     4.0|        4.0|     3.0|    92.2|\n",
      "+-----------------+----+-------+---------+-------+------------------------+-----------+--------+--------+\n",
      "only showing top 5 rows\n",
      "\n"
     ]
    }
   ],
   "source": [
    "df.show(5)"
   ]
  },
  {
   "cell_type": "code",
   "execution_count": 33,
   "metadata": {},
   "outputs": [],
   "source": [
    "# We plot the value and the log of the value against the Overall skill"
   ]
  },
  {
   "cell_type": "code",
   "execution_count": 34,
   "metadata": {},
   "outputs": [],
   "source": [
    "import math\n",
    "log_func = udf(math.log,DoubleType())\n",
    "df_sample = df.sample(False,0.2)\n",
    "df_sample = df_sample.withColumn('logValue',log_func(df.Value))\n",
    "ov_list = df_sample.rdd.map(lambda row: row.Overall).collect()\n",
    "val_list = df_sample.rdd.map(lambda row: row.Value).collect()\n",
    "log_val_list = df_sample.rdd.map(lambda row: row.logValue).collect()"
   ]
  },
  {
   "cell_type": "code",
   "execution_count": 35,
   "metadata": {},
   "outputs": [
    {
     "data": {
      "image/png": "[encoded data removed]",
      "text/plain": [
       "<matplotlib.figure.Figure at 0x7f54f05f4d30>"
      ]
     },
     "metadata": {},
     "output_type": "display_data"
    }
   ],
   "source": [
    "%matplotlib inline\n",
    "import matplotlib.pyplot as plt\n",
    "plt.figure(figsize = (10,5))\n",
    "plt.subplot(121)\n",
    "plt.xlabel('Overall')\n",
    "plt.ylabel('Value')\n",
    "plt.scatter(ov_list,val_list)\n",
    "plt.subplot(122)\n",
    "plt.xlabel('Overall')\n",
    "plt.ylabel('log Value')\n",
    "plt.scatter(ov_list,log_val_list)\n",
    "plt.subplots_adjust(top=0.92, bottom=0.08, left=0.10, right=0.95, hspace=0.25, wspace=0.35)\n",
    "plt.show()"
   ]
  },
  {
   "cell_type": "code",
   "execution_count": 36,
   "metadata": {},
   "outputs": [],
   "source": [
    "# We see that the value grows exponentially with the overall skill. The log of the value grows linearly with the overall skill."
   ]
  },
  {
   "cell_type": "code",
   "execution_count": 37,
   "metadata": {},
   "outputs": [],
   "source": [
    "# Let's examine the other variables."
   ]
  },
  {
   "cell_type": "code",
   "execution_count": 38,
   "metadata": {},
   "outputs": [],
   "source": [
    "Age_list = df_sample.rdd.map(lambda row: row.Age).collect()\n",
    "Pot_list = df_sample.rdd.map(lambda row: row.Potential).collect()\n",
    "IR_list = df_sample.rdd.map(lambda row: row.International_Reputation).collect()\n",
    "SM_list = df_sample.rdd.map(lambda row: row.Skill_Moves).collect()\n",
    "Pos_list = df_sample.rdd.map(lambda row: row.Position).collect()\n",
    "ab_list = df_sample.rdd.map(lambda row: row.avg_best).collect()"
   ]
  },
  {
   "cell_type": "code",
   "execution_count": 39,
   "metadata": {},
   "outputs": [
    {
     "data": {
      "image/png": "[encoded data removed]",
      "text/plain": [
       "<matplotlib.figure.Figure at 0x7f54ccbfc9e8>"
      ]
     },
     "metadata": {},
     "output_type": "display_data"
    }
   ],
   "source": [
    "plt.figure(figsize=(10,5))\n",
    "plt.subplot(121)\n",
    "plt.xlabel('Potential')\n",
    "plt.ylabel('Value')\n",
    "plt.scatter(Pot_list,val_list)\n",
    "plt.subplot(122)\n",
    "plt.xlabel('Potential')\n",
    "plt.ylabel('log Value')\n",
    "plt.scatter(Pot_list,log_val_list)\n",
    "plt.subplots_adjust(top=0.92, bottom=0.08, left=0.10, right=0.95, hspace=0.25, wspace=0.35)\n",
    "plt.show()"
   ]
  },
  {
   "cell_type": "code",
   "execution_count": 40,
   "metadata": {},
   "outputs": [],
   "source": [
    "# The relationship between the value and the potential is similar to the relationship between overall skill and potential. However, we see that high potential \n",
    "# doesn't translate to high value as readily as high overall skill does.\n",
    "# We look at the correlation between these two variables."
   ]
  },
  {
   "cell_type": "code",
   "execution_count": 41,
   "metadata": {},
   "outputs": [
    {
     "data": {
      "image/png": "[encoded data removed]",
      "text/plain": [
       "<matplotlib.figure.Figure at 0x7f54ccc09128>"
      ]
     },
     "metadata": {},
     "output_type": "display_data"
    }
   ],
   "source": [
    "plt.figure(1)\n",
    "plt.xlabel('Potential')\n",
    "plt.ylabel('Overall')\n",
    "plt.scatter(Pot_list,ov_list)\n",
    "plt.show()"
   ]
  },
  {
   "cell_type": "code",
   "execution_count": 42,
   "metadata": {},
   "outputs": [],
   "source": [
    "# The two variables are somewhat correlated. In general, players have more potential than Overall Skill. \n",
    "#This makes sense since it is not possible to have less potential. \n",
    "#We move on to avg_best."
   ]
  },
  {
   "cell_type": "code",
   "execution_count": 43,
   "metadata": {},
   "outputs": [
    {
     "data": {
      "image/png": "[encoded data removed]",
      "text/plain": [
       "<matplotlib.figure.Figure at 0x7f54cfa97c50>"
      ]
     },
     "metadata": {},
     "output_type": "display_data"
    }
   ],
   "source": [
    "plt.figure(figsize=(10,5))\n",
    "plt.subplot(121)\n",
    "plt.xlabel('avg_best')\n",
    "plt.ylabel('Value')\n",
    "plt.scatter(ab_list,val_list)\n",
    "plt.subplot(122)\n",
    "plt.xlabel('avg_best')\n",
    "plt.ylabel('log Value')\n",
    "plt.scatter(ab_list,log_val_list)\n",
    "plt.subplots_adjust(top=0.92, bottom=0.08, left=0.10, right=0.95, hspace=0.25, wspace=0.35)\n",
    "plt.show()"
   ]
  },
  {
   "cell_type": "code",
   "execution_count": 44,
   "metadata": {},
   "outputs": [],
   "source": [
    "# Just as was the case for the Potential, the relationship looks exponential but high avg_best doesn't necessarily translate to high value in all cases.\n",
    "#Lets plot the relationship between avg_best and Overall skill"
   ]
  },
  {
   "cell_type": "code",
   "execution_count": 45,
   "metadata": {},
   "outputs": [
    {
     "data": {
      "image/png": "[encoded data removed]",
      "text/plain": [
       "<matplotlib.figure.Figure at 0x7f54cca50b38>"
      ]
     },
     "metadata": {},
     "output_type": "display_data"
    }
   ],
   "source": [
    "plt.figure(1)\n",
    "plt.xlabel('avg_best')\n",
    "plt.ylabel('Overall')\n",
    "plt.scatter(ab_list,ov_list)\n",
    "plt.show()"
   ]
  },
  {
   "cell_type": "code",
   "execution_count": 46,
   "metadata": {},
   "outputs": [],
   "source": [
    "# The two variables are shomewhat correlated. Once again, just as was the case for Potential avg_best is an upper bound for the overall skill."
   ]
  },
  {
   "cell_type": "code",
   "execution_count": 47,
   "metadata": {},
   "outputs": [],
   "source": [
    "# We now look at the age."
   ]
  },
  {
   "cell_type": "code",
   "execution_count": 48,
   "metadata": {},
   "outputs": [
    {
     "data": {
      "image/png": "[encoded data removed]",
      "text/plain": [
       "<matplotlib.figure.Figure at 0x7f54cc9d0c18>"
      ]
     },
     "metadata": {},
     "output_type": "display_data"
    }
   ],
   "source": [
    "plt.figure(1)\n",
    "plt.xlabel('Age')\n",
    "plt.ylabel('Value')\n",
    "plt.scatter(Age_list,val_list)\n",
    "plt.show()"
   ]
  },
  {
   "cell_type": "code",
   "execution_count": 49,
   "metadata": {},
   "outputs": [],
   "source": [
    "# Young players and old players have a lower value, while in the middle of the spectrum age doesn't seem to correlate with value."
   ]
  },
  {
   "cell_type": "code",
   "execution_count": 50,
   "metadata": {},
   "outputs": [],
   "source": [
    "# Let's examine the position."
   ]
  },
  {
   "cell_type": "code",
   "execution_count": 51,
   "metadata": {},
   "outputs": [
    {
     "data": {
      "image/png": "[encoded data removed]",
      "text/plain": [
       "<matplotlib.figure.Figure at 0x7f54cc93b5f8>"
      ]
     },
     "metadata": {},
     "output_type": "display_data"
    }
   ],
   "source": [
    "plt.figure(1)\n",
    "plt.xlabel('Position')\n",
    "plt.ylabel('Value')\n",
    "plt.scatter(Pos_list,val_list)\n",
    "plt.show()"
   ]
  },
  {
   "cell_type": "code",
   "execution_count": 52,
   "metadata": {},
   "outputs": [],
   "source": [
    "# Midfielders on average have the highest value. Surprisingly, wingers and forwards have low average value, although there are a few outliers with high value.\n",
    "# These outliers like Ronaldo and Messi are the ones we are used to thinking about, hence the surprise."
   ]
  },
  {
   "cell_type": "code",
   "execution_count": 53,
   "metadata": {},
   "outputs": [],
   "source": [
    "# We examine international reputation."
   ]
  },
  {
   "cell_type": "code",
   "execution_count": 54,
   "metadata": {},
   "outputs": [
    {
     "data": {
      "image/png": "[encoded data removed]",
      "text/plain": [
       "<matplotlib.figure.Figure at 0x7f54cc93b3c8>"
      ]
     },
     "metadata": {},
     "output_type": "display_data"
    }
   ],
   "source": [
    "plt.figure(1)\n",
    "plt.xlabel('International_reputation')\n",
    "plt.ylabel('Value')\n",
    "plt.scatter(IR_list,val_list)\n",
    "plt.show()"
   ]
  },
  {
   "cell_type": "code",
   "execution_count": 55,
   "metadata": {},
   "outputs": [],
   "source": [
    "#There aren't many players with international reputation above three. In general, higher international reputation corresponds to higher value."
   ]
  },
  {
   "cell_type": "code",
   "execution_count": 56,
   "metadata": {},
   "outputs": [],
   "source": [
    "# We look at skill moves next."
   ]
  },
  {
   "cell_type": "code",
   "execution_count": 57,
   "metadata": {},
   "outputs": [
    {
     "data": {
      "image/png": "[encoded data removed]",
      "text/plain": [
       "<matplotlib.figure.Figure at 0x7f54cca821d0>"
      ]
     },
     "metadata": {},
     "output_type": "display_data"
    }
   ],
   "source": [
    "plt.figure(1)\n",
    "plt.xlabel('Skills_moves')\n",
    "plt.ylabel('Value')\n",
    "plt.scatter(SM_list,val_list)\n",
    "plt.show()"
   ]
  },
  {
   "cell_type": "code",
   "execution_count": 58,
   "metadata": {},
   "outputs": [],
   "source": [
    "# There is weak correlation between skill_moves and value. Unsurprisingly, higher skill_moves corresponds to higher value."
   ]
  },
  {
   "cell_type": "code",
   "execution_count": 59,
   "metadata": {},
   "outputs": [],
   "source": [
    "# We will now perform random forest regression on these features. We first make a features column."
   ]
  },
  {
   "cell_type": "code",
   "execution_count": 60,
   "metadata": {},
   "outputs": [],
   "source": [
    "feature_cols = df.columns\n",
    "for col in ['Name','Value']:\n",
    "    feature_cols.remove(col)\n",
    "    \n",
    "from pyspark.ml.linalg import Vectors\n",
    "from pyspark.ml.feature import VectorAssembler\n",
    "VA = VectorAssembler(inputCols = feature_cols, outputCol = 'features')\n",
    "df = VA.transform(df)"
   ]
  },
  {
   "cell_type": "code",
   "execution_count": 61,
   "metadata": {},
   "outputs": [],
   "source": [
    "#We treat features with more than five categories as continuous."
   ]
  },
  {
   "cell_type": "code",
   "execution_count": 62,
   "metadata": {},
   "outputs": [],
   "source": [
    "from pyspark.ml.feature import VectorIndexer\n",
    "featureIndexer =  VectorIndexer(inputCol=\"features\", outputCol=\"indexedFeatures\", maxCategories=5).fit(df)\n",
    "df  = featureIndexer.transform(df)"
   ]
  },
  {
   "cell_type": "code",
   "execution_count": 63,
   "metadata": {},
   "outputs": [],
   "source": [
    "# Split the data into train_set, val_set, and test_test. "
   ]
  },
  {
   "cell_type": "code",
   "execution_count": 64,
   "metadata": {},
   "outputs": [],
   "source": [
    "(train_df,val_df, test_df) = df.randomSplit([0.9,0.05, 0.05])"
   ]
  },
  {
   "cell_type": "code",
   "execution_count": 65,
   "metadata": {},
   "outputs": [],
   "source": [
    "#Fit Random Forest regression algorithm to train data to predict the value of each player."
   ]
  },
  {
   "cell_type": "code",
   "execution_count": 66,
   "metadata": {},
   "outputs": [],
   "source": [
    "from pyspark.ml.regression import RandomForestRegressor\n",
    "from pyspark.ml.evaluation import RegressionEvaluator\n",
    "rf = RandomForestRegressor( featuresCol = \"indexedFeatures\",labelCol = 'Value',maxDepth=30, numTrees=40,maxBins=1000)\n",
    "model = rf.fit(train_df)"
   ]
  },
  {
   "cell_type": "code",
   "execution_count": 67,
   "metadata": {},
   "outputs": [
    {
     "name": "stdout",
     "output_type": "stream",
     "text": [
      "+------------------+---------+-------------+\n",
      "|        prediction|    Value|         Name|\n",
      "+------------------+---------+-------------+\n",
      "| 426970.4861111111| 425000.0|     A. Abang|\n",
      "|172077.86012296882| 170000.0|A. Abdellaoui|\n",
      "|3138729.3956043953|3200000.0| A. Abdennour|\n",
      "| 874694.2155067155| 900000.0|      A. Abdi|\n",
      "|470201.03594322345| 475000.0|A. Abdu Jaber|\n",
      "+------------------+---------+-------------+\n",
      "only showing top 5 rows\n",
      "\n"
     ]
    }
   ],
   "source": [
    "predictions = model.transform(train_df)\n",
    "predictions.select(\"prediction\", \"Value\", \"Name\").show(5)"
   ]
  },
  {
   "cell_type": "code",
   "execution_count": 68,
   "metadata": {},
   "outputs": [
    {
     "data": {
      "text/plain": [
       "320212.51354856626"
      ]
     },
     "execution_count": 68,
     "metadata": {},
     "output_type": "execute_result"
    }
   ],
   "source": [
    "evaluator = RegressionEvaluator(labelCol=\"Value\", predictionCol=\"prediction\", metricName=\"rmse\")\n",
    "rmse = evaluator.evaluate(predictions)\n",
    "rmse"
   ]
  },
  {
   "cell_type": "code",
   "execution_count": 69,
   "metadata": {},
   "outputs": [],
   "source": [
    "#Let's evaluate the average percent error on the training set."
   ]
  },
  {
   "cell_type": "code",
   "execution_count": 70,
   "metadata": {},
   "outputs": [
    {
     "name": "stdout",
     "output_type": "stream",
     "text": [
      "+------------------+\n",
      "|     avg(per_diff)|\n",
      "+------------------+\n",
      "|3.1250788566751853|\n",
      "+------------------+\n",
      "\n"
     ]
    }
   ],
   "source": [
    "from pyspark.sql.functions import *\n",
    "predictions = predictions.withColumn('per_diff',100*abs(predictions.prediction-predictions.Value)/predictions.Value).orderBy(desc(\"per_diff\")).select(\"Value\",\"prediction\",\"per_diff\",\"Name\")\n",
    "predictions.select(avg(predictions.per_diff)).show()"
   ]
  },
  {
   "cell_type": "code",
   "execution_count": 71,
   "metadata": {},
   "outputs": [],
   "source": [
    "# We have acheived an average of 3.13% error on the training set."
   ]
  },
  {
   "cell_type": "code",
   "execution_count": 72,
   "metadata": {},
   "outputs": [],
   "source": [
    "# Evaluate model on validation set."
   ]
  },
  {
   "cell_type": "code",
   "execution_count": 73,
   "metadata": {},
   "outputs": [
    {
     "data": {
      "text/plain": [
       "420482.1586616827"
      ]
     },
     "execution_count": 73,
     "metadata": {},
     "output_type": "execute_result"
    }
   ],
   "source": [
    "predictions = model.transform(val_df)\n",
    "rmse = evaluator.evaluate(predictions)\n",
    "rmse"
   ]
  },
  {
   "cell_type": "code",
   "execution_count": 74,
   "metadata": {},
   "outputs": [
    {
     "name": "stdout",
     "output_type": "stream",
     "text": [
      "+-----------------+\n",
      "|    avg(per_diff)|\n",
      "+-----------------+\n",
      "|5.557834475308599|\n",
      "+-----------------+\n",
      "\n"
     ]
    }
   ],
   "source": [
    "predictions = predictions.withColumn('per_diff',100*abs(predictions.prediction-predictions.Value)/predictions.Value).orderBy(desc(\"per_diff\")).select(\"Value\",\"prediction\",\"per_diff\",\"Name\")\n",
    "predictions.select(avg(predictions.per_diff)).show()"
   ]
  },
  {
   "cell_type": "code",
   "execution_count": 75,
   "metadata": {},
   "outputs": [],
   "source": [
    "# We have acheived 5.56% error on the validation set."
   ]
  },
  {
   "cell_type": "code",
   "execution_count": 76,
   "metadata": {},
   "outputs": [],
   "source": [
    "# Evaluate model on test set."
   ]
  },
  {
   "cell_type": "code",
   "execution_count": 77,
   "metadata": {},
   "outputs": [
    {
     "data": {
      "text/plain": [
       "691344.253274338"
      ]
     },
     "execution_count": 77,
     "metadata": {},
     "output_type": "execute_result"
    }
   ],
   "source": [
    "predictions = model.transform(test_df)\n",
    "rmse = evaluator.evaluate(predictions)\n",
    "rmse"
   ]
  },
  {
   "cell_type": "code",
   "execution_count": 78,
   "metadata": {},
   "outputs": [
    {
     "name": "stdout",
     "output_type": "stream",
     "text": [
      "+---------+-------------------+------------------+------------+\n",
      "|    Value|         prediction|          per_diff|        Name|\n",
      "+---------+-------------------+------------------+------------+\n",
      "|  30000.0|  161683.3333333333| 438.9444444444444|   M. Taylor|\n",
      "|  70000.0| 276584.28030303033| 295.1204004329005| J. Carranza|\n",
      "| 100000.0|  264352.5641025641|164.35256410256412|     Rafinha|\n",
      "|  20000.0| 47950.694444444445|139.75347222222223|     P. Gori|\n",
      "|  90000.0| 209938.89260249556|133.26543622499506|    S. Ağçay|\n",
      "| 120000.0|  265355.9523809523|121.12996031746026|    F. Oreja|\n",
      "|  20000.0|  43089.58333333333|115.44791666666666|    L. Corti|\n",
      "|  60000.0| 125729.16666666666| 109.5486111111111| D. Campbell|\n",
      "| 325000.0|  675469.7646103896|107.83685064935065|K. Beckerman|\n",
      "|  20000.0|  37456.03739631317| 87.28018698156585|   Y. Uekusa|\n",
      "|9000000.0|1.456892857142857E7| 61.87698412698412|        Pepe|\n",
      "|  80000.0|          120843.75|        51.0546875|   A. Reghba|\n",
      "|  60000.0|  88480.89045266467| 47.46815075444111|  D. Collins|\n",
      "|  60000.0|           84968.75|41.614583333333336|R. Shibamoto|\n",
      "| 550000.0|  775896.7779072751| 41.07214143768638|A. Henríquez|\n",
      "| 230000.0|  137833.3333333333|40.072463768115945|  K. Risgård|\n",
      "| 120000.0| 167357.14285714287| 39.46428571428573|   D. Duarte|\n",
      "|  30000.0| 40534.689081706434|35.115630272354785| B. Williams|\n",
      "| 425000.0|  569622.0238095238|34.028711484593835|    M. Saito|\n",
      "|  40000.0| 52876.355748373106| 32.19088937093276|   J. García|\n",
      "+---------+-------------------+------------------+------------+\n",
      "only showing top 20 rows\n",
      "\n"
     ]
    }
   ],
   "source": [
    "predictions = predictions.withColumn('per_diff',100*abs(predictions.prediction-predictions.Value)/predictions.Value).orderBy(desc(\"per_diff\")).select(\"Value\",\"prediction\",\"per_diff\",\"Name\")\n",
    "predictions.show()"
   ]
  },
  {
   "cell_type": "code",
   "execution_count": 79,
   "metadata": {},
   "outputs": [
    {
     "name": "stdout",
     "output_type": "stream",
     "text": [
      "+-----------------+\n",
      "|    avg(per_diff)|\n",
      "+-----------------+\n",
      "|6.906873270302134|\n",
      "+-----------------+\n",
      "\n"
     ]
    }
   ],
   "source": [
    "predictions.select(avg(predictions.per_diff)).show()"
   ]
  },
  {
   "cell_type": "code",
   "execution_count": 80,
   "metadata": {},
   "outputs": [],
   "source": [
    "# We have acheived a 6.91% error on the test set and rmse ~ 700,000 euros. Given the great uncertainty in the value of a soccer player, this data is very noisy.\n",
    "# Hence, this is a very good result. "
   ]
  },
  {
   "cell_type": "code",
   "execution_count": 81,
   "metadata": {},
   "outputs": [],
   "source": [
    "# Finally, we plot the predictions of the test set vs. the actual values."
   ]
  },
  {
   "cell_type": "code",
   "execution_count": 82,
   "metadata": {},
   "outputs": [
    {
     "data": {
      "image/png": "[encoded data removed]",
      "text/plain": [
       "<matplotlib.figure.Figure at 0x7f54ccacdb00>"
      ]
     },
     "metadata": {},
     "output_type": "display_data"
    }
   ],
   "source": [
    "pred_list = predictions.rdd.map(lambda row: row.prediction).collect()\n",
    "val_list = predictions.rdd.map(lambda row: row.Value).collect()\n",
    "plt.figure(figsize=(10,5))\n",
    "plt.xlabel(\"value\")\n",
    "plt.ylabel(\"prediction\")\n",
    "plt.scatter(val_list,pred_list)\n",
    "plt.scatter(val_list,val_list,c=\"red\")\n",
    "plt.show()"
   ]
  },
  {
   "cell_type": "code",
   "execution_count": 83,
   "metadata": {},
   "outputs": [],
   "source": [
    "# The predictions are in blue, while the actual values are in red. We see that the algorithm does a pretty good job."
   ]
  }
 ],
 "metadata": {
  "kernelspec": {
   "display_name": "Python 3.5 with Spark 2.1",
   "language": "python",
   "name": "python3-spark21"
  },
  "language_info": {
   "codemirror_mode": {
    "name": "ipython",
    "version": 3
   },
   "file_extension": ".py",
   "mimetype": "text/x-python",
   "name": "python",
   "nbconvert_exporter": "python",
   "pygments_lexer": "ipython3",
   "version": "3.5.4"
  }
 },
 "nbformat": 4,
 "nbformat_minor": 1
}
